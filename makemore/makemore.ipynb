{
 "cells": [
  {
   "cell_type": "markdown",
   "id": "4eb60ccf",
   "metadata": {},
   "source": [
    "# BiGram Character level language modelling"
   ]
  },
  {
   "cell_type": "code",
   "execution_count": 1,
   "id": "04369afc",
   "metadata": {},
   "outputs": [
    {
     "data": {
      "text/plain": [
       "['emma',\n",
       " 'olivia',\n",
       " 'ava',\n",
       " 'isabella',\n",
       " 'sophia',\n",
       " 'charlotte',\n",
       " 'mia',\n",
       " 'amelia',\n",
       " 'harper',\n",
       " 'evelyn']"
      ]
     },
     "execution_count": 1,
     "metadata": {},
     "output_type": "execute_result"
    }
   ],
   "source": [
    "words = open('names.txt','r').read().splitlines()\n",
    "words[:10]"
   ]
  },
  {
   "cell_type": "code",
   "execution_count": 2,
   "id": "d666a3f9",
   "metadata": {},
   "outputs": [
    {
     "data": {
      "text/plain": [
       "32033"
      ]
     },
     "execution_count": 2,
     "metadata": {},
     "output_type": "execute_result"
    }
   ],
   "source": [
    "len(words)"
   ]
  },
  {
   "cell_type": "markdown",
   "id": "f88fba8b",
   "metadata": {},
   "source": [
    "#Bigram( one character simply prints a next character with a lookup table of counts)"
   ]
  },
  {
   "cell_type": "code",
   "execution_count": 3,
   "id": "f0092f2b",
   "metadata": {},
   "outputs": [],
   "source": [
    "b = {}\n",
    "for w in words:\n",
    "    chs = ['<S>'] + list(w) + ['<E>']\n",
    "    for ch1,ch2 in zip(chs,chs[1:]):\n",
    "        bigram = (ch1,ch2)\n",
    "        b[bigram] = b.get(bigram,0) + 1\n",
    "        #b.get(bigram) is same as b[bigram] but 0 is used to set default begram to 0\n"
   ]
  },
  {
   "cell_type": "code",
   "execution_count": 4,
   "id": "4af2869c",
   "metadata": {},
   "outputs": [
    {
     "data": {
      "text/plain": [
       "[(('n', '<E>'), 6763),\n",
       " (('a', '<E>'), 6640),\n",
       " (('a', 'n'), 5438),\n",
       " (('<S>', 'a'), 4410),\n",
       " (('e', '<E>'), 3983),\n",
       " (('a', 'r'), 3264),\n",
       " (('e', 'l'), 3248),\n",
       " (('r', 'i'), 3033),\n",
       " (('n', 'a'), 2977),\n",
       " (('<S>', 'k'), 2963),\n",
       " (('l', 'e'), 2921),\n",
       " (('e', 'n'), 2675),\n",
       " (('l', 'a'), 2623),\n",
       " (('m', 'a'), 2590),\n",
       " (('<S>', 'm'), 2538),\n",
       " (('a', 'l'), 2528),\n",
       " (('i', '<E>'), 2489),\n",
       " (('l', 'i'), 2480),\n",
       " (('i', 'a'), 2445),\n",
       " (('<S>', 'j'), 2422),\n",
       " (('o', 'n'), 2411),\n",
       " (('h', '<E>'), 2409),\n",
       " (('r', 'a'), 2356),\n",
       " (('a', 'h'), 2332),\n",
       " (('h', 'a'), 2244),\n",
       " (('y', 'a'), 2143),\n",
       " (('i', 'n'), 2126),\n",
       " (('<S>', 's'), 2055),\n",
       " (('a', 'y'), 2050),\n",
       " (('y', '<E>'), 2007),\n",
       " (('e', 'r'), 1958),\n",
       " (('n', 'n'), 1906),\n",
       " (('y', 'n'), 1826),\n",
       " (('k', 'a'), 1731),\n",
       " (('n', 'i'), 1725),\n",
       " (('r', 'e'), 1697),\n",
       " (('<S>', 'd'), 1690),\n",
       " (('i', 'e'), 1653),\n",
       " (('a', 'i'), 1650),\n",
       " (('<S>', 'r'), 1639),\n",
       " (('a', 'm'), 1634),\n",
       " (('l', 'y'), 1588),\n",
       " (('<S>', 'l'), 1572),\n",
       " (('<S>', 'c'), 1542),\n",
       " (('<S>', 'e'), 1531),\n",
       " (('j', 'a'), 1473),\n",
       " (('r', '<E>'), 1377),\n",
       " (('n', 'e'), 1359),\n",
       " (('l', 'l'), 1345),\n",
       " (('i', 'l'), 1345),\n",
       " (('i', 's'), 1316),\n",
       " (('l', '<E>'), 1314),\n",
       " (('<S>', 't'), 1308),\n",
       " (('<S>', 'b'), 1306),\n",
       " (('d', 'a'), 1303),\n",
       " (('s', 'h'), 1285),\n",
       " (('d', 'e'), 1283),\n",
       " (('e', 'e'), 1271),\n",
       " (('m', 'i'), 1256),\n",
       " (('s', 'a'), 1201),\n",
       " (('s', '<E>'), 1169),\n",
       " (('<S>', 'n'), 1146),\n",
       " (('a', 's'), 1118),\n",
       " (('y', 'l'), 1104),\n",
       " (('e', 'y'), 1070),\n",
       " (('o', 'r'), 1059),\n",
       " (('a', 'd'), 1042),\n",
       " (('t', 'a'), 1027),\n",
       " (('<S>', 'z'), 929),\n",
       " (('v', 'i'), 911),\n",
       " (('k', 'e'), 895),\n",
       " (('s', 'e'), 884),\n",
       " (('<S>', 'h'), 874),\n",
       " (('r', 'o'), 869),\n",
       " (('e', 's'), 861),\n",
       " (('z', 'a'), 860),\n",
       " (('o', '<E>'), 855),\n",
       " (('i', 'r'), 849),\n",
       " (('b', 'r'), 842),\n",
       " (('a', 'v'), 834),\n",
       " (('m', 'e'), 818),\n",
       " (('e', 'i'), 818),\n",
       " (('c', 'a'), 815),\n",
       " (('i', 'y'), 779),\n",
       " (('r', 'y'), 773),\n",
       " (('e', 'm'), 769),\n",
       " (('s', 't'), 765),\n",
       " (('h', 'i'), 729),\n",
       " (('t', 'e'), 716),\n",
       " (('n', 'd'), 704),\n",
       " (('l', 'o'), 692),\n",
       " (('a', 'e'), 692),\n",
       " (('a', 't'), 687),\n",
       " (('s', 'i'), 684),\n",
       " (('e', 'a'), 679),\n",
       " (('d', 'i'), 674),\n",
       " (('h', 'e'), 674),\n",
       " (('<S>', 'g'), 669),\n",
       " (('t', 'o'), 667),\n",
       " (('c', 'h'), 664),\n",
       " (('b', 'e'), 655),\n",
       " (('t', 'h'), 647),\n",
       " (('v', 'a'), 642),\n",
       " (('o', 'l'), 619),\n",
       " (('<S>', 'i'), 591),\n",
       " (('i', 'o'), 588),\n",
       " (('e', 't'), 580),\n",
       " (('v', 'e'), 568),\n",
       " (('a', 'k'), 568),\n",
       " (('a', 'a'), 556),\n",
       " (('c', 'e'), 551),\n",
       " (('a', 'b'), 541),\n",
       " (('i', 't'), 541),\n",
       " (('<S>', 'y'), 535),\n",
       " (('t', 'i'), 532),\n",
       " (('s', 'o'), 531),\n",
       " (('m', '<E>'), 516),\n",
       " (('d', '<E>'), 516),\n",
       " (('<S>', 'p'), 515),\n",
       " (('i', 'c'), 509),\n",
       " (('k', 'i'), 509),\n",
       " (('o', 's'), 504),\n",
       " (('n', 'o'), 496),\n",
       " (('t', '<E>'), 483),\n",
       " (('j', 'o'), 479),\n",
       " (('u', 's'), 474),\n",
       " (('a', 'c'), 470),\n",
       " (('n', 'y'), 465),\n",
       " (('e', 'v'), 463),\n",
       " (('s', 's'), 461),\n",
       " (('m', 'o'), 452),\n",
       " (('i', 'k'), 445),\n",
       " (('n', 't'), 443),\n",
       " (('i', 'd'), 440),\n",
       " (('j', 'e'), 440),\n",
       " (('a', 'z'), 435),\n",
       " (('i', 'g'), 428),\n",
       " (('i', 'm'), 427),\n",
       " (('r', 'r'), 425),\n",
       " (('d', 'r'), 424),\n",
       " (('<S>', 'f'), 417),\n",
       " (('u', 'r'), 414),\n",
       " (('r', 'l'), 413),\n",
       " (('y', 's'), 401),\n",
       " (('<S>', 'o'), 394),\n",
       " (('e', 'd'), 384),\n",
       " (('a', 'u'), 381),\n",
       " (('c', 'o'), 380),\n",
       " (('k', 'y'), 379),\n",
       " (('d', 'o'), 378),\n",
       " (('<S>', 'v'), 376),\n",
       " (('t', 't'), 374),\n",
       " (('z', 'e'), 373),\n",
       " (('z', 'i'), 364),\n",
       " (('k', '<E>'), 363),\n",
       " (('g', 'h'), 360),\n",
       " (('t', 'r'), 352),\n",
       " (('k', 'o'), 344),\n",
       " (('t', 'y'), 341),\n",
       " (('g', 'e'), 334),\n",
       " (('g', 'a'), 330),\n",
       " (('l', 'u'), 324),\n",
       " (('b', 'a'), 321),\n",
       " (('d', 'y'), 317),\n",
       " (('c', 'k'), 316),\n",
       " (('<S>', 'w'), 307),\n",
       " (('k', 'h'), 307),\n",
       " (('u', 'l'), 301),\n",
       " (('y', 'e'), 301),\n",
       " (('y', 'r'), 291),\n",
       " (('m', 'y'), 287),\n",
       " (('h', 'o'), 287),\n",
       " (('w', 'a'), 280),\n",
       " (('s', 'l'), 279),\n",
       " (('n', 's'), 278),\n",
       " (('i', 'z'), 277),\n",
       " (('u', 'n'), 275),\n",
       " (('o', 'u'), 275),\n",
       " (('n', 'g'), 273),\n",
       " (('y', 'd'), 272),\n",
       " (('c', 'i'), 271),\n",
       " (('y', 'o'), 271),\n",
       " (('i', 'v'), 269),\n",
       " (('e', 'o'), 269),\n",
       " (('o', 'm'), 261),\n",
       " (('r', 'u'), 252),\n",
       " (('f', 'a'), 242),\n",
       " (('b', 'i'), 217),\n",
       " (('s', 'y'), 215),\n",
       " (('n', 'c'), 213),\n",
       " (('h', 'y'), 213),\n",
       " (('p', 'a'), 209),\n",
       " (('r', 't'), 208),\n",
       " (('q', 'u'), 206),\n",
       " (('p', 'h'), 204),\n",
       " (('h', 'r'), 204),\n",
       " (('j', 'u'), 202),\n",
       " (('g', 'r'), 201),\n",
       " (('p', 'e'), 197),\n",
       " (('n', 'l'), 195),\n",
       " (('y', 'i'), 192),\n",
       " (('g', 'i'), 190),\n",
       " (('o', 'd'), 190),\n",
       " (('r', 's'), 190),\n",
       " (('r', 'd'), 187),\n",
       " (('h', 'l'), 185),\n",
       " (('s', 'u'), 185),\n",
       " (('a', 'x'), 182),\n",
       " (('e', 'z'), 181),\n",
       " (('e', 'k'), 178),\n",
       " (('o', 'v'), 176),\n",
       " (('a', 'j'), 175),\n",
       " (('o', 'h'), 171),\n",
       " (('u', 'e'), 169),\n",
       " (('m', 'm'), 168),\n",
       " (('a', 'g'), 168),\n",
       " (('h', 'u'), 166),\n",
       " (('x', '<E>'), 164),\n",
       " (('u', 'a'), 163),\n",
       " (('r', 'm'), 162),\n",
       " (('a', 'w'), 161),\n",
       " (('f', 'i'), 160),\n",
       " (('z', '<E>'), 160),\n",
       " (('u', '<E>'), 155),\n",
       " (('u', 'm'), 154),\n",
       " (('e', 'c'), 153),\n",
       " (('v', 'o'), 153),\n",
       " (('e', 'h'), 152),\n",
       " (('p', 'r'), 151),\n",
       " (('d', 'd'), 149),\n",
       " (('o', 'a'), 149),\n",
       " (('w', 'e'), 149),\n",
       " (('w', 'i'), 148),\n",
       " (('y', 'm'), 148),\n",
       " (('z', 'y'), 147),\n",
       " (('n', 'z'), 145),\n",
       " (('y', 'u'), 141),\n",
       " (('r', 'n'), 140),\n",
       " (('o', 'b'), 140),\n",
       " (('k', 'l'), 139),\n",
       " (('m', 'u'), 139),\n",
       " (('l', 'd'), 138),\n",
       " (('h', 'n'), 138),\n",
       " (('u', 'd'), 136),\n",
       " (('<S>', 'x'), 134),\n",
       " (('t', 'l'), 134),\n",
       " (('a', 'f'), 134),\n",
       " (('o', 'e'), 132),\n",
       " (('e', 'x'), 132),\n",
       " (('e', 'g'), 125),\n",
       " (('f', 'e'), 123),\n",
       " (('z', 'l'), 123),\n",
       " (('u', 'i'), 121),\n",
       " (('v', 'y'), 121),\n",
       " (('e', 'b'), 121),\n",
       " (('r', 'h'), 121),\n",
       " (('j', 'i'), 119),\n",
       " (('o', 't'), 118),\n",
       " (('d', 'h'), 118),\n",
       " (('h', 'm'), 117),\n",
       " (('c', 'l'), 116),\n",
       " (('o', 'o'), 115),\n",
       " (('y', 'c'), 115),\n",
       " (('o', 'w'), 114),\n",
       " (('o', 'c'), 114),\n",
       " (('f', 'r'), 114),\n",
       " (('b', '<E>'), 114),\n",
       " (('m', 'b'), 112),\n",
       " (('z', 'o'), 110),\n",
       " (('i', 'b'), 110),\n",
       " (('i', 'u'), 109),\n",
       " (('k', 'r'), 109),\n",
       " (('g', '<E>'), 108),\n",
       " (('y', 'v'), 106),\n",
       " (('t', 'z'), 105),\n",
       " (('b', 'o'), 105),\n",
       " (('c', 'y'), 104),\n",
       " (('y', 't'), 104),\n",
       " (('u', 'b'), 103),\n",
       " (('u', 'c'), 103),\n",
       " (('x', 'a'), 103),\n",
       " (('b', 'l'), 103),\n",
       " (('o', 'y'), 103),\n",
       " (('x', 'i'), 102),\n",
       " (('i', 'f'), 101),\n",
       " (('r', 'c'), 99),\n",
       " (('c', '<E>'), 97),\n",
       " (('m', 'r'), 97),\n",
       " (('n', 'u'), 96),\n",
       " (('o', 'p'), 95),\n",
       " (('i', 'h'), 95),\n",
       " (('k', 's'), 95),\n",
       " (('l', 's'), 94),\n",
       " (('u', 'k'), 93),\n",
       " (('<S>', 'q'), 92),\n",
       " (('d', 'u'), 92),\n",
       " (('s', 'm'), 90),\n",
       " (('r', 'k'), 90),\n",
       " (('i', 'x'), 89),\n",
       " (('v', '<E>'), 88),\n",
       " (('y', 'k'), 86),\n",
       " (('u', 'w'), 86),\n",
       " (('g', 'u'), 85),\n",
       " (('b', 'y'), 83),\n",
       " (('e', 'p'), 83),\n",
       " (('g', 'o'), 83),\n",
       " (('s', 'k'), 82),\n",
       " (('u', 't'), 82),\n",
       " (('a', 'p'), 82),\n",
       " (('e', 'f'), 82),\n",
       " (('i', 'i'), 82),\n",
       " (('r', 'v'), 80),\n",
       " (('f', '<E>'), 80),\n",
       " (('t', 'u'), 78),\n",
       " (('y', 'z'), 78),\n",
       " (('<S>', 'u'), 78),\n",
       " (('l', 't'), 77),\n",
       " (('r', 'g'), 76),\n",
       " (('c', 'r'), 76),\n",
       " (('i', 'j'), 76),\n",
       " (('w', 'y'), 73),\n",
       " (('z', 'u'), 73),\n",
       " (('l', 'v'), 72),\n",
       " (('h', 't'), 71),\n",
       " (('j', '<E>'), 71),\n",
       " (('x', 't'), 70),\n",
       " (('o', 'i'), 69),\n",
       " (('e', 'u'), 69),\n",
       " (('o', 'k'), 68),\n",
       " (('b', 'd'), 65),\n",
       " (('a', 'o'), 63),\n",
       " (('p', 'i'), 61),\n",
       " (('s', 'c'), 60),\n",
       " (('d', 'l'), 60),\n",
       " (('l', 'm'), 60),\n",
       " (('a', 'q'), 60),\n",
       " (('f', 'o'), 60),\n",
       " (('p', 'o'), 59),\n",
       " (('n', 'k'), 58),\n",
       " (('w', 'n'), 58),\n",
       " (('u', 'h'), 58),\n",
       " (('e', 'j'), 55),\n",
       " (('n', 'v'), 55),\n",
       " (('s', 'r'), 55),\n",
       " (('o', 'z'), 54),\n",
       " (('i', 'p'), 53),\n",
       " (('l', 'b'), 52),\n",
       " (('i', 'q'), 52),\n",
       " (('w', '<E>'), 51),\n",
       " (('m', 'c'), 51),\n",
       " (('s', 'p'), 51),\n",
       " (('e', 'w'), 50),\n",
       " (('k', 'u'), 50),\n",
       " (('v', 'r'), 48),\n",
       " (('u', 'g'), 47),\n",
       " (('o', 'x'), 45),\n",
       " (('u', 'z'), 45),\n",
       " (('z', 'z'), 45),\n",
       " (('j', 'h'), 45),\n",
       " (('b', 'u'), 45),\n",
       " (('o', 'g'), 44),\n",
       " (('n', 'r'), 44),\n",
       " (('f', 'f'), 44),\n",
       " (('n', 'j'), 44),\n",
       " (('z', 'h'), 43),\n",
       " (('c', 'c'), 42),\n",
       " (('r', 'b'), 41),\n",
       " (('x', 'o'), 41),\n",
       " (('b', 'h'), 41),\n",
       " (('p', 'p'), 39),\n",
       " (('x', 'l'), 39),\n",
       " (('h', 'v'), 39),\n",
       " (('b', 'b'), 38),\n",
       " (('m', 'p'), 38),\n",
       " (('x', 'x'), 38),\n",
       " (('u', 'v'), 37),\n",
       " (('x', 'e'), 36),\n",
       " (('w', 'o'), 36),\n",
       " (('c', 't'), 35),\n",
       " (('z', 'm'), 35),\n",
       " (('t', 's'), 35),\n",
       " (('m', 's'), 35),\n",
       " (('c', 'u'), 35),\n",
       " (('o', 'f'), 34),\n",
       " (('u', 'x'), 34),\n",
       " (('k', 'w'), 34),\n",
       " (('p', '<E>'), 33),\n",
       " (('g', 'l'), 32),\n",
       " (('z', 'r'), 32),\n",
       " (('d', 'n'), 31),\n",
       " (('g', 't'), 31),\n",
       " (('g', 'y'), 31),\n",
       " (('h', 's'), 31),\n",
       " (('x', 's'), 31),\n",
       " (('g', 's'), 30),\n",
       " (('x', 'y'), 30),\n",
       " (('y', 'g'), 30),\n",
       " (('d', 'm'), 30),\n",
       " (('d', 's'), 29),\n",
       " (('h', 'k'), 29),\n",
       " (('y', 'x'), 28),\n",
       " (('q', '<E>'), 28),\n",
       " (('g', 'n'), 27),\n",
       " (('y', 'b'), 27),\n",
       " (('g', 'w'), 26),\n",
       " (('n', 'h'), 26),\n",
       " (('k', 'n'), 26),\n",
       " (('g', 'g'), 25),\n",
       " (('d', 'g'), 25),\n",
       " (('l', 'c'), 25),\n",
       " (('r', 'j'), 25),\n",
       " (('w', 'u'), 25),\n",
       " (('l', 'k'), 24),\n",
       " (('m', 'd'), 24),\n",
       " (('s', 'w'), 24),\n",
       " (('s', 'n'), 24),\n",
       " (('h', 'd'), 24),\n",
       " (('w', 'h'), 23),\n",
       " (('y', 'j'), 23),\n",
       " (('y', 'y'), 23),\n",
       " (('r', 'z'), 23),\n",
       " (('d', 'w'), 23),\n",
       " (('w', 'r'), 22),\n",
       " (('t', 'n'), 22),\n",
       " (('l', 'f'), 22),\n",
       " (('y', 'h'), 22),\n",
       " (('r', 'w'), 21),\n",
       " (('s', 'b'), 21),\n",
       " (('m', 'n'), 20),\n",
       " (('f', 'l'), 20),\n",
       " (('w', 's'), 20),\n",
       " (('k', 'k'), 20),\n",
       " (('h', 'z'), 20),\n",
       " (('g', 'd'), 19),\n",
       " (('l', 'h'), 19),\n",
       " (('n', 'm'), 19),\n",
       " (('x', 'z'), 19),\n",
       " (('u', 'f'), 19),\n",
       " (('f', 't'), 18),\n",
       " (('l', 'r'), 18),\n",
       " (('p', 't'), 17),\n",
       " (('t', 'c'), 17),\n",
       " (('k', 't'), 17),\n",
       " (('d', 'v'), 17),\n",
       " (('u', 'p'), 16),\n",
       " (('p', 'l'), 16),\n",
       " (('l', 'w'), 16),\n",
       " (('p', 's'), 16),\n",
       " (('o', 'j'), 16),\n",
       " (('r', 'q'), 16),\n",
       " (('y', 'p'), 15),\n",
       " (('l', 'p'), 15),\n",
       " (('t', 'v'), 15),\n",
       " (('r', 'p'), 14),\n",
       " (('l', 'n'), 14),\n",
       " (('e', 'q'), 14),\n",
       " (('f', 'y'), 14),\n",
       " (('s', 'v'), 14),\n",
       " (('u', 'j'), 14),\n",
       " (('v', 'l'), 14),\n",
       " (('q', 'a'), 13),\n",
       " (('u', 'y'), 13),\n",
       " (('q', 'i'), 13),\n",
       " (('w', 'l'), 13),\n",
       " (('p', 'y'), 12),\n",
       " (('y', 'f'), 12),\n",
       " (('c', 'q'), 11),\n",
       " (('j', 'r'), 11),\n",
       " (('n', 'w'), 11),\n",
       " (('n', 'f'), 11),\n",
       " (('t', 'w'), 11),\n",
       " (('m', 'z'), 11),\n",
       " (('u', 'o'), 10),\n",
       " (('f', 'u'), 10),\n",
       " (('l', 'z'), 10),\n",
       " (('h', 'w'), 10),\n",
       " (('u', 'q'), 10),\n",
       " (('j', 'y'), 10),\n",
       " (('s', 'z'), 10),\n",
       " (('s', 'd'), 9),\n",
       " (('j', 'l'), 9),\n",
       " (('d', 'j'), 9),\n",
       " (('k', 'm'), 9),\n",
       " (('r', 'f'), 9),\n",
       " (('h', 'j'), 9),\n",
       " (('v', 'n'), 8),\n",
       " (('n', 'b'), 8),\n",
       " (('i', 'w'), 8),\n",
       " (('h', 'b'), 8),\n",
       " (('b', 's'), 8),\n",
       " (('w', 't'), 8),\n",
       " (('w', 'd'), 8),\n",
       " (('v', 'v'), 7),\n",
       " (('v', 'u'), 7),\n",
       " (('j', 's'), 7),\n",
       " (('m', 'j'), 7),\n",
       " (('f', 's'), 6),\n",
       " (('l', 'g'), 6),\n",
       " (('l', 'j'), 6),\n",
       " (('j', 'w'), 6),\n",
       " (('n', 'x'), 6),\n",
       " (('y', 'q'), 6),\n",
       " (('w', 'k'), 6),\n",
       " (('g', 'm'), 6),\n",
       " (('x', 'u'), 5),\n",
       " (('m', 'h'), 5),\n",
       " (('m', 'l'), 5),\n",
       " (('j', 'm'), 5),\n",
       " (('c', 's'), 5),\n",
       " (('j', 'v'), 5),\n",
       " (('n', 'p'), 5),\n",
       " (('d', 'f'), 5),\n",
       " (('x', 'd'), 5),\n",
       " (('z', 'b'), 4),\n",
       " (('f', 'n'), 4),\n",
       " (('x', 'c'), 4),\n",
       " (('m', 't'), 4),\n",
       " (('t', 'm'), 4),\n",
       " (('z', 'n'), 4),\n",
       " (('z', 't'), 4),\n",
       " (('p', 'u'), 4),\n",
       " (('c', 'z'), 4),\n",
       " (('b', 'n'), 4),\n",
       " (('z', 's'), 4),\n",
       " (('f', 'w'), 4),\n",
       " (('d', 't'), 4),\n",
       " (('j', 'd'), 4),\n",
       " (('j', 'c'), 4),\n",
       " (('y', 'w'), 4),\n",
       " (('v', 'k'), 3),\n",
       " (('x', 'w'), 3),\n",
       " (('t', 'j'), 3),\n",
       " (('c', 'j'), 3),\n",
       " (('q', 'w'), 3),\n",
       " (('g', 'b'), 3),\n",
       " (('o', 'q'), 3),\n",
       " (('r', 'x'), 3),\n",
       " (('d', 'c'), 3),\n",
       " (('g', 'j'), 3),\n",
       " (('x', 'f'), 3),\n",
       " (('z', 'w'), 3),\n",
       " (('d', 'k'), 3),\n",
       " (('u', 'u'), 3),\n",
       " (('m', 'v'), 3),\n",
       " (('c', 'x'), 3),\n",
       " (('l', 'q'), 3),\n",
       " (('p', 'b'), 2),\n",
       " (('t', 'g'), 2),\n",
       " (('q', 's'), 2),\n",
       " (('t', 'x'), 2),\n",
       " (('f', 'k'), 2),\n",
       " (('b', 't'), 2),\n",
       " (('j', 'n'), 2),\n",
       " (('k', 'c'), 2),\n",
       " (('z', 'k'), 2),\n",
       " (('s', 'j'), 2),\n",
       " (('s', 'f'), 2),\n",
       " (('z', 'j'), 2),\n",
       " (('n', 'q'), 2),\n",
       " (('f', 'z'), 2),\n",
       " (('h', 'g'), 2),\n",
       " (('w', 'w'), 2),\n",
       " (('k', 'j'), 2),\n",
       " (('j', 'k'), 2),\n",
       " (('w', 'm'), 2),\n",
       " (('z', 'c'), 2),\n",
       " (('z', 'v'), 2),\n",
       " (('w', 'f'), 2),\n",
       " (('q', 'm'), 2),\n",
       " (('k', 'z'), 2),\n",
       " (('j', 'j'), 2),\n",
       " (('z', 'p'), 2),\n",
       " (('j', 't'), 2),\n",
       " (('k', 'b'), 2),\n",
       " (('m', 'w'), 2),\n",
       " (('h', 'f'), 2),\n",
       " (('c', 'g'), 2),\n",
       " (('t', 'f'), 2),\n",
       " (('h', 'c'), 2),\n",
       " (('q', 'o'), 2),\n",
       " (('k', 'd'), 2),\n",
       " (('k', 'v'), 2),\n",
       " (('s', 'g'), 2),\n",
       " (('z', 'd'), 2),\n",
       " (('q', 'r'), 1),\n",
       " (('d', 'z'), 1),\n",
       " (('p', 'j'), 1),\n",
       " (('q', 'l'), 1),\n",
       " (('p', 'f'), 1),\n",
       " (('q', 'e'), 1),\n",
       " (('b', 'c'), 1),\n",
       " (('c', 'd'), 1),\n",
       " (('m', 'f'), 1),\n",
       " (('p', 'n'), 1),\n",
       " (('w', 'b'), 1),\n",
       " (('p', 'c'), 1),\n",
       " (('h', 'p'), 1),\n",
       " (('f', 'h'), 1),\n",
       " (('b', 'j'), 1),\n",
       " (('f', 'g'), 1),\n",
       " (('z', 'g'), 1),\n",
       " (('c', 'p'), 1),\n",
       " (('p', 'k'), 1),\n",
       " (('p', 'm'), 1),\n",
       " (('x', 'n'), 1),\n",
       " (('s', 'q'), 1),\n",
       " (('k', 'f'), 1),\n",
       " (('m', 'k'), 1),\n",
       " (('x', 'h'), 1),\n",
       " (('g', 'f'), 1),\n",
       " (('v', 'b'), 1),\n",
       " (('j', 'p'), 1),\n",
       " (('g', 'z'), 1),\n",
       " (('v', 'd'), 1),\n",
       " (('d', 'b'), 1),\n",
       " (('v', 'h'), 1),\n",
       " (('h', 'h'), 1),\n",
       " (('g', 'v'), 1),\n",
       " (('d', 'q'), 1),\n",
       " (('x', 'b'), 1),\n",
       " (('w', 'z'), 1),\n",
       " (('h', 'q'), 1),\n",
       " (('j', 'b'), 1),\n",
       " (('x', 'm'), 1),\n",
       " (('w', 'g'), 1),\n",
       " (('t', 'b'), 1),\n",
       " (('z', 'x'), 1)]"
      ]
     },
     "execution_count": 4,
     "metadata": {},
     "output_type": "execute_result"
    }
   ],
   "source": [
    "sorted(b.items(),key=lambda kv : -kv[1])"
   ]
  },
  {
   "cell_type": "code",
   "execution_count": 5,
   "id": "31cc0967",
   "metadata": {},
   "outputs": [
    {
     "name": "stderr",
     "output_type": "stream",
     "text": [
      "C:\\Users\\mahip\\miniconda3\\lib\\site-packages\\tqdm\\auto.py:22: TqdmWarning: IProgress not found. Please update jupyter and ipywidgets. See https://ipywidgets.readthedocs.io/en/stable/user_install.html\n",
      "  from .autonotebook import tqdm as notebook_tqdm\n"
     ]
    }
   ],
   "source": [
    "#storing the data in a 2d array\n",
    "import torch\n",
    "N = torch.zeros((27,27),dtype=torch.int32)\n"
   ]
  },
  {
   "cell_type": "code",
   "execution_count": 6,
   "id": "afe689d5",
   "metadata": {},
   "outputs": [],
   "source": [
    "chars = sorted(list(set(''.join(words))))\n",
    "stoi = {s:i+1 for i,s in enumerate(chars)}\n",
    "stoi['.'] = 0\n",
    "itos = {i:s for s,i in stoi.items()}"
   ]
  },
  {
   "cell_type": "code",
   "execution_count": 7,
   "id": "a92560cd",
   "metadata": {},
   "outputs": [],
   "source": [
    "for w in words:\n",
    "    chs = ['.'] + list(w) + ['.']\n",
    "    for ch1,ch2 in zip(chs,chs[1:]):\n",
    "        x1 = stoi[ch1]\n",
    "        x2 = stoi[ch2]\n",
    "        N[x1,x2]+=1"
   ]
  },
  {
   "cell_type": "code",
   "execution_count": 8,
   "id": "88299ce6",
   "metadata": {},
   "outputs": [
    {
     "data": {
      "text/plain": [
       "tensor([[   0, 4410, 1306, 1542, 1690, 1531,  417,  669,  874,  591, 2422, 2963,\n",
       "         1572, 2538, 1146,  394,  515,   92, 1639, 2055, 1308,   78,  376,  307,\n",
       "          134,  535,  929],\n",
       "        [6640,  556,  541,  470, 1042,  692,  134,  168, 2332, 1650,  175,  568,\n",
       "         2528, 1634, 5438,   63,   82,   60, 3264, 1118,  687,  381,  834,  161,\n",
       "          182, 2050,  435],\n",
       "        [ 114,  321,   38,    1,   65,  655,    0,    0,   41,  217,    1,    0,\n",
       "          103,    0,    4,  105,    0,    0,  842,    8,    2,   45,    0,    0,\n",
       "            0,   83,    0],\n",
       "        [  97,  815,    0,   42,    1,  551,    0,    2,  664,  271,    3,  316,\n",
       "          116,    0,    0,  380,    1,   11,   76,    5,   35,   35,    0,    0,\n",
       "            3,  104,    4],\n",
       "        [ 516, 1303,    1,    3,  149, 1283,    5,   25,  118,  674,    9,    3,\n",
       "           60,   30,   31,  378,    0,    1,  424,   29,    4,   92,   17,   23,\n",
       "            0,  317,    1],\n",
       "        [3983,  679,  121,  153,  384, 1271,   82,  125,  152,  818,   55,  178,\n",
       "         3248,  769, 2675,  269,   83,   14, 1958,  861,  580,   69,  463,   50,\n",
       "          132, 1070,  181],\n",
       "        [  80,  242,    0,    0,    0,  123,   44,    1,    1,  160,    0,    2,\n",
       "           20,    0,    4,   60,    0,    0,  114,    6,   18,   10,    0,    4,\n",
       "            0,   14,    2],\n",
       "        [ 108,  330,    3,    0,   19,  334,    1,   25,  360,  190,    3,    0,\n",
       "           32,    6,   27,   83,    0,    0,  201,   30,   31,   85,    1,   26,\n",
       "            0,   31,    1],\n",
       "        [2409, 2244,    8,    2,   24,  674,    2,    2,    1,  729,    9,   29,\n",
       "          185,  117,  138,  287,    1,    1,  204,   31,   71,  166,   39,   10,\n",
       "            0,  213,   20],\n",
       "        [2489, 2445,  110,  509,  440, 1653,  101,  428,   95,   82,   76,  445,\n",
       "         1345,  427, 2126,  588,   53,   52,  849, 1316,  541,  109,  269,    8,\n",
       "           89,  779,  277],\n",
       "        [  71, 1473,    1,    4,    4,  440,    0,    0,   45,  119,    2,    2,\n",
       "            9,    5,    2,  479,    1,    0,   11,    7,    2,  202,    5,    6,\n",
       "            0,   10,    0],\n",
       "        [ 363, 1731,    2,    2,    2,  895,    1,    0,  307,  509,    2,   20,\n",
       "          139,    9,   26,  344,    0,    0,  109,   95,   17,   50,    2,   34,\n",
       "            0,  379,    2],\n",
       "        [1314, 2623,   52,   25,  138, 2921,   22,    6,   19, 2480,    6,   24,\n",
       "         1345,   60,   14,  692,   15,    3,   18,   94,   77,  324,   72,   16,\n",
       "            0, 1588,   10],\n",
       "        [ 516, 2590,  112,   51,   24,  818,    1,    0,    5, 1256,    7,    1,\n",
       "            5,  168,   20,  452,   38,    0,   97,   35,    4,  139,    3,    2,\n",
       "            0,  287,   11],\n",
       "        [6763, 2977,    8,  213,  704, 1359,   11,  273,   26, 1725,   44,   58,\n",
       "          195,   19, 1906,  496,    5,    2,   44,  278,  443,   96,   55,   11,\n",
       "            6,  465,  145],\n",
       "        [ 855,  149,  140,  114,  190,  132,   34,   44,  171,   69,   16,   68,\n",
       "          619,  261, 2411,  115,   95,    3, 1059,  504,  118,  275,  176,  114,\n",
       "           45,  103,   54],\n",
       "        [  33,  209,    2,    1,    0,  197,    1,    0,  204,   61,    1,    1,\n",
       "           16,    1,    1,   59,   39,    0,  151,   16,   17,    4,    0,    0,\n",
       "            0,   12,    0],\n",
       "        [  28,   13,    0,    0,    0,    1,    0,    0,    0,   13,    0,    0,\n",
       "            1,    2,    0,    2,    0,    0,    1,    2,    0,  206,    0,    3,\n",
       "            0,    0,    0],\n",
       "        [1377, 2356,   41,   99,  187, 1697,    9,   76,  121, 3033,   25,   90,\n",
       "          413,  162,  140,  869,   14,   16,  425,  190,  208,  252,   80,   21,\n",
       "            3,  773,   23],\n",
       "        [1169, 1201,   21,   60,    9,  884,    2,    2, 1285,  684,    2,   82,\n",
       "          279,   90,   24,  531,   51,    1,   55,  461,  765,  185,   14,   24,\n",
       "            0,  215,   10],\n",
       "        [ 483, 1027,    1,   17,    0,  716,    2,    2,  647,  532,    3,    0,\n",
       "          134,    4,   22,  667,    0,    0,  352,   35,  374,   78,   15,   11,\n",
       "            2,  341,  105],\n",
       "        [ 155,  163,  103,  103,  136,  169,   19,   47,   58,  121,   14,   93,\n",
       "          301,  154,  275,   10,   16,   10,  414,  474,   82,    3,   37,   86,\n",
       "           34,   13,   45],\n",
       "        [  88,  642,    1,    0,    1,  568,    0,    0,    1,  911,    0,    3,\n",
       "           14,    0,    8,  153,    0,    0,   48,    0,    0,    7,    7,    0,\n",
       "            0,  121,    0],\n",
       "        [  51,  280,    1,    0,    8,  149,    2,    1,   23,  148,    0,    6,\n",
       "           13,    2,   58,   36,    0,    0,   22,   20,    8,   25,    0,    2,\n",
       "            0,   73,    1],\n",
       "        [ 164,  103,    1,    4,    5,   36,    3,    0,    1,  102,    0,    0,\n",
       "           39,    1,    1,   41,    0,    0,    0,   31,   70,    5,    0,    3,\n",
       "           38,   30,   19],\n",
       "        [2007, 2143,   27,  115,  272,  301,   12,   30,   22,  192,   23,   86,\n",
       "         1104,  148, 1826,  271,   15,    6,  291,  401,  104,  141,  106,    4,\n",
       "           28,   23,   78],\n",
       "        [ 160,  860,    4,    2,    2,  373,    0,    1,   43,  364,    2,    2,\n",
       "          123,   35,    4,  110,    2,    0,   32,    4,    4,   73,    2,    3,\n",
       "            1,  147,   45]], dtype=torch.int32)"
      ]
     },
     "execution_count": 8,
     "metadata": {},
     "output_type": "execute_result"
    }
   ],
   "source": [
    "N"
   ]
  },
  {
   "cell_type": "code",
   "execution_count": 9,
   "id": "7973d0ee",
   "metadata": {},
   "outputs": [
    {
     "data": {
      "text/plain": [
       "<matplotlib.image.AxesImage at 0x242b41808e0>"
      ]
     },
     "execution_count": 9,
     "metadata": {},
     "output_type": "execute_result"
    },
    {
     "data": {
      "image/png": "[encoded data removed]",
      "text/plain": [
       "<Figure size 432x288 with 1 Axes>"
      ]
     },
     "metadata": {
      "needs_background": "light"
     },
     "output_type": "display_data"
    }
   ],
   "source": [
    "import matplotlib.pyplot as plt\n",
    "%matplotlib inline\n",
    "plt.imshow(N)"
   ]
  },
  {
   "cell_type": "markdown",
   "id": "66566428",
   "metadata": {},
   "source": [
    "# Generating the Frequency Distribution Table for Bigram "
   ]
  },
  {
   "cell_type": "code",
   "execution_count": 10,
   "id": "c44bc418",
   "metadata": {},
   "outputs": [
    {
     "data": {
      "text/plain": [
       "(-0.5, 26.5, 26.5, -0.5)"
      ]
     },
     "execution_count": 10,
     "metadata": {},
     "output_type": "execute_result"
    },
    {
     "data": {
      "image/png": "[encoded data removed]",
      "text/plain": [
       "<Figure size 1440x1440 with 1 Axes>"
      ]
     },
     "metadata": {
      "needs_background": "light"
     },
     "output_type": "display_data"
    }
   ],
   "source": [
    "plt.figure(figsize=(20,20))\n",
    "plt.imshow(N, cmap='Blues')\n",
    "for i in range(27):\n",
    "    for j in range(27):\n",
    "        chstr = itos[i] + itos[j]\n",
    "        plt.text(j,i,chstr,ha=\"center\",va=\"bottom\",color='gray')\n",
    "        plt.text(j,i,N[i,j].item(),ha=\"center\",va=\"top\",color='gray')\n",
    "plt.axis('off')"
   ]
  },
  {
   "cell_type": "code",
   "execution_count": 11,
   "id": "bed2ce3f",
   "metadata": {},
   "outputs": [
    {
     "data": {
      "text/plain": [
       "tensor([0.6064, 0.3033, 0.0903])"
      ]
     },
     "execution_count": 11,
     "metadata": {},
     "output_type": "execute_result"
    }
   ],
   "source": [
    "# generate a random set of numbers \n",
    "# use Generator seed to get same random numbers at all times(Deterministic)\n",
    "g = torch.Generator().manual_seed(2147483647)\n",
    "p = torch.rand(3,generator=g)\n",
    "p = p/p.sum()\n",
    "p"
   ]
  },
  {
   "cell_type": "code",
   "execution_count": 12,
   "id": "4c07b154",
   "metadata": {},
   "outputs": [
    {
     "data": {
      "text/plain": [
       "tensor([1, 1, 2, 0, 0, 2, 1, 1, 0, 0, 0, 1, 1, 0, 0, 1, 1, 0, 0, 1, 0, 2, 0, 0,\n",
       "        1, 0, 0, 1, 0, 0, 0, 1, 1, 1, 0, 1, 1, 0, 0, 1, 1, 1, 0, 1, 1, 0, 1, 1,\n",
       "        0, 2, 0, 0, 0, 0, 0, 0, 0, 0, 0, 0, 1, 1, 0, 0, 0, 0, 0, 0, 0, 0, 1, 0,\n",
       "        0, 1, 0, 0, 0, 0, 0, 0, 0, 1, 2, 0, 0, 0, 0, 0, 0, 1, 0, 0, 2, 0, 1, 0,\n",
       "        0, 1, 1, 1])"
      ]
     },
     "execution_count": 12,
     "metadata": {},
     "output_type": "execute_result"
    }
   ],
   "source": [
    "torch.multinomial(p,num_samples=100,replacement=True,generator=g)"
   ]
  },
  {
   "cell_type": "code",
   "execution_count": 13,
   "id": "66526b21",
   "metadata": {},
   "outputs": [
    {
     "data": {
      "text/plain": [
       "tensor([[0.0000e+00, 1.3767e-01, 4.0770e-02, 4.8138e-02, 5.2758e-02, 4.7794e-02,\n",
       "         1.3018e-02, 2.0885e-02, 2.7284e-02, 1.8450e-02, 7.5610e-02, 9.2498e-02,\n",
       "         4.9074e-02, 7.9231e-02, 3.5776e-02, 1.2300e-02, 1.6077e-02, 2.8720e-03,\n",
       "         5.1166e-02, 6.4153e-02, 4.0833e-02, 2.4350e-03, 1.1738e-02, 9.5839e-03,\n",
       "         4.1832e-03, 1.6702e-02, 2.9001e-02],\n",
       "        [1.9596e-01, 1.6408e-02, 1.5966e-02, 1.3870e-02, 3.0751e-02, 2.0422e-02,\n",
       "         3.9546e-03, 4.9579e-03, 6.8821e-02, 4.8694e-02, 5.1645e-03, 1.6763e-02,\n",
       "         7.4605e-02, 4.8222e-02, 1.6048e-01, 1.8592e-03, 2.4199e-03, 1.7707e-03,\n",
       "         9.6326e-02, 3.2994e-02, 2.0274e-02, 1.1244e-02, 2.4613e-02, 4.7514e-03,\n",
       "         5.3711e-03, 6.0499e-02, 1.2838e-02],\n",
       "        [4.3100e-02, 1.2136e-01, 1.4367e-02, 3.7807e-04, 2.4575e-02, 2.4764e-01,\n",
       "         0.0000e+00, 0.0000e+00, 1.5501e-02, 8.2042e-02, 3.7807e-04, 0.0000e+00,\n",
       "         3.8941e-02, 0.0000e+00, 1.5123e-03, 3.9698e-02, 0.0000e+00, 0.0000e+00,\n",
       "         3.1834e-01, 3.0246e-03, 7.5614e-04, 1.7013e-02, 0.0000e+00, 0.0000e+00,\n",
       "         0.0000e+00, 3.1380e-02, 0.0000e+00],\n",
       "        [2.7463e-02, 2.3075e-01, 0.0000e+00, 1.1891e-02, 2.8313e-04, 1.5600e-01,\n",
       "         0.0000e+00, 5.6625e-04, 1.8800e-01, 7.6727e-02, 8.4938e-04, 8.9468e-02,\n",
       "         3.2843e-02, 0.0000e+00, 0.0000e+00, 1.0759e-01, 2.8313e-04, 3.1144e-03,\n",
       "         2.1518e-02, 1.4156e-03, 9.9094e-03, 9.9094e-03, 0.0000e+00, 0.0000e+00,\n",
       "         8.4938e-04, 2.9445e-02, 1.1325e-03],\n",
       "        [9.3886e-02, 2.3708e-01, 1.8195e-04, 5.4585e-04, 2.7111e-02, 2.3344e-01,\n",
       "         9.0975e-04, 4.5488e-03, 2.1470e-02, 1.2263e-01, 1.6376e-03, 5.4585e-04,\n",
       "         1.0917e-02, 5.4585e-03, 5.6405e-03, 6.8777e-02, 0.0000e+00, 1.8195e-04,\n",
       "         7.7147e-02, 5.2766e-03, 7.2780e-04, 1.6739e-02, 3.0932e-03, 4.1849e-03,\n",
       "         0.0000e+00, 5.7678e-02, 1.8195e-04],\n",
       "        [1.9503e-01, 3.3247e-02, 5.9247e-03, 7.4916e-03, 1.8802e-02, 6.2234e-02,\n",
       "         4.0151e-03, 6.1206e-03, 7.4426e-03, 4.0053e-02, 2.6930e-03, 8.7157e-03,\n",
       "         1.5904e-01, 3.7654e-02, 1.3098e-01, 1.3171e-02, 4.0640e-03, 6.8550e-04,\n",
       "         9.5872e-02, 4.2158e-02, 2.8399e-02, 3.3785e-03, 2.2671e-02, 2.4482e-03,\n",
       "         6.4633e-03, 5.2392e-02, 8.8626e-03],\n",
       "        [8.8398e-02, 2.6740e-01, 0.0000e+00, 0.0000e+00, 0.0000e+00, 1.3591e-01,\n",
       "         4.8619e-02, 1.1050e-03, 1.1050e-03, 1.7680e-01, 0.0000e+00, 2.2099e-03,\n",
       "         2.2099e-02, 0.0000e+00, 4.4199e-03, 6.6298e-02, 0.0000e+00, 0.0000e+00,\n",
       "         1.2597e-01, 6.6298e-03, 1.9890e-02, 1.1050e-02, 0.0000e+00, 4.4199e-03,\n",
       "         0.0000e+00, 1.5470e-02, 2.2099e-03],\n",
       "        [5.6046e-02, 1.7125e-01, 1.5568e-03, 0.0000e+00, 9.8599e-03, 1.7333e-01,\n",
       "         5.1894e-04, 1.2974e-02, 1.8682e-01, 9.8599e-02, 1.5568e-03, 0.0000e+00,\n",
       "         1.6606e-02, 3.1136e-03, 1.4011e-02, 4.3072e-02, 0.0000e+00, 0.0000e+00,\n",
       "         1.0431e-01, 1.5568e-02, 1.6087e-02, 4.4110e-02, 5.1894e-04, 1.3492e-02,\n",
       "         0.0000e+00, 1.6087e-02, 5.1894e-04],\n",
       "        [3.1631e-01, 2.9464e-01, 1.0504e-03, 2.6261e-04, 3.1513e-03, 8.8498e-02,\n",
       "         2.6261e-04, 2.6261e-04, 1.3130e-04, 9.5720e-02, 1.1817e-03, 3.8078e-03,\n",
       "         2.4291e-02, 1.5362e-02, 1.8120e-02, 3.7684e-02, 1.3130e-04, 1.3130e-04,\n",
       "         2.6786e-02, 4.0704e-03, 9.3225e-03, 2.1796e-02, 5.1208e-03, 1.3130e-03,\n",
       "         0.0000e+00, 2.7967e-02, 2.6261e-03],\n",
       "        [1.4061e-01, 1.3813e-01, 6.2143e-03, 2.8755e-02, 2.4857e-02, 9.3385e-02,\n",
       "         5.7059e-03, 2.4179e-02, 5.3669e-03, 4.6325e-03, 4.2935e-03, 2.5140e-02,\n",
       "         7.5984e-02, 2.4123e-02, 1.2011e-01, 3.3218e-02, 2.9942e-03, 2.9377e-03,\n",
       "         4.7963e-02, 7.4346e-02, 3.0563e-02, 6.1578e-03, 1.5197e-02, 4.5195e-04,\n",
       "         5.0280e-03, 4.4009e-02, 1.5649e-02],\n",
       "        [2.4483e-02, 5.0793e-01, 3.4483e-04, 1.3793e-03, 1.3793e-03, 1.5172e-01,\n",
       "         0.0000e+00, 0.0000e+00, 1.5517e-02, 4.1034e-02, 6.8966e-04, 6.8966e-04,\n",
       "         3.1034e-03, 1.7241e-03, 6.8966e-04, 1.6517e-01, 3.4483e-04, 0.0000e+00,\n",
       "         3.7931e-03, 2.4138e-03, 6.8966e-04, 6.9655e-02, 1.7241e-03, 2.0690e-03,\n",
       "         0.0000e+00, 3.4483e-03, 0.0000e+00],\n",
       "        [7.2024e-02, 3.4345e-01, 3.9683e-04, 3.9683e-04, 3.9683e-04, 1.7758e-01,\n",
       "         1.9841e-04, 0.0000e+00, 6.0913e-02, 1.0099e-01, 3.9683e-04, 3.9683e-03,\n",
       "         2.7579e-02, 1.7857e-03, 5.1587e-03, 6.8254e-02, 0.0000e+00, 0.0000e+00,\n",
       "         2.1627e-02, 1.8849e-02, 3.3730e-03, 9.9206e-03, 3.9683e-04, 6.7460e-03,\n",
       "         0.0000e+00, 7.5198e-02, 3.9683e-04],\n",
       "        [9.4140e-02, 1.8792e-01, 3.7255e-03, 1.7911e-03, 9.8868e-03, 2.0927e-01,\n",
       "         1.5762e-03, 4.2986e-04, 1.3612e-03, 1.7768e-01, 4.2986e-04, 1.7194e-03,\n",
       "         9.6361e-02, 4.2986e-03, 1.0030e-03, 4.9577e-02, 1.0747e-03, 2.1493e-04,\n",
       "         1.2896e-03, 6.7345e-03, 5.5165e-03, 2.3212e-02, 5.1583e-03, 1.1463e-03,\n",
       "         0.0000e+00, 1.1377e-01, 7.1644e-04],\n",
       "        [7.7687e-02, 3.8994e-01, 1.6862e-02, 7.6784e-03, 3.6134e-03, 1.2316e-01,\n",
       "         1.5056e-04, 0.0000e+00, 7.5279e-04, 1.8910e-01, 1.0539e-03, 1.5056e-04,\n",
       "         7.5279e-04, 2.5294e-02, 3.0111e-03, 6.8052e-02, 5.7212e-03, 0.0000e+00,\n",
       "         1.4604e-02, 5.2695e-03, 6.0223e-04, 2.0927e-02, 4.5167e-04, 3.0111e-04,\n",
       "         0.0000e+00, 4.3210e-02, 1.6561e-03],\n",
       "        [3.6902e-01, 1.6244e-01, 4.3651e-04, 1.1622e-02, 3.8413e-02, 7.4153e-02,\n",
       "         6.0021e-04, 1.4896e-02, 1.4187e-03, 9.4123e-02, 2.4008e-03, 3.1647e-03,\n",
       "         1.0640e-02, 1.0367e-03, 1.0400e-01, 2.7064e-02, 2.7282e-04, 1.0913e-04,\n",
       "         2.4008e-03, 1.5169e-02, 2.4172e-02, 5.2382e-03, 3.0010e-03, 6.0021e-04,\n",
       "         3.2739e-04, 2.5372e-02, 7.9118e-03],\n",
       "        [1.0776e-01, 1.8780e-02, 1.7646e-02, 1.4369e-02, 2.3948e-02, 1.6637e-02,\n",
       "         4.2854e-03, 5.5458e-03, 2.1553e-02, 8.6967e-03, 2.0166e-03, 8.5707e-03,\n",
       "         7.8019e-02, 3.2896e-02, 3.0388e-01, 1.4495e-02, 1.1974e-02, 3.7812e-04,\n",
       "         1.3348e-01, 6.3524e-02, 1.4873e-02, 3.4661e-02, 2.2183e-02, 1.4369e-02,\n",
       "         5.6718e-03, 1.2982e-02, 6.8062e-03],\n",
       "        [3.2164e-02, 2.0370e-01, 1.9493e-03, 9.7466e-04, 0.0000e+00, 1.9201e-01,\n",
       "         9.7466e-04, 0.0000e+00, 1.9883e-01, 5.9454e-02, 9.7466e-04, 9.7466e-04,\n",
       "         1.5595e-02, 9.7466e-04, 9.7466e-04, 5.7505e-02, 3.8012e-02, 0.0000e+00,\n",
       "         1.4717e-01, 1.5595e-02, 1.6569e-02, 3.8986e-03, 0.0000e+00, 0.0000e+00,\n",
       "         0.0000e+00, 1.1696e-02, 0.0000e+00],\n",
       "        [1.0294e-01, 4.7794e-02, 0.0000e+00, 0.0000e+00, 0.0000e+00, 3.6765e-03,\n",
       "         0.0000e+00, 0.0000e+00, 0.0000e+00, 4.7794e-02, 0.0000e+00, 0.0000e+00,\n",
       "         3.6765e-03, 7.3529e-03, 0.0000e+00, 7.3529e-03, 0.0000e+00, 0.0000e+00,\n",
       "         3.6765e-03, 7.3529e-03, 0.0000e+00, 7.5735e-01, 0.0000e+00, 1.1029e-02,\n",
       "         0.0000e+00, 0.0000e+00, 0.0000e+00],\n",
       "        [1.0843e-01, 1.8551e-01, 3.2283e-03, 7.7953e-03, 1.4724e-02, 1.3362e-01,\n",
       "         7.0866e-04, 5.9843e-03, 9.5276e-03, 2.3882e-01, 1.9685e-03, 7.0866e-03,\n",
       "         3.2520e-02, 1.2756e-02, 1.1024e-02, 6.8425e-02, 1.1024e-03, 1.2598e-03,\n",
       "         3.3465e-02, 1.4961e-02, 1.6378e-02, 1.9843e-02, 6.2992e-03, 1.6535e-03,\n",
       "         2.3622e-04, 6.0866e-02, 1.8110e-03],\n",
       "        [1.4421e-01, 1.4816e-01, 2.5907e-03, 7.4019e-03, 1.1103e-03, 1.0906e-01,\n",
       "         2.4673e-04, 2.4673e-04, 1.5852e-01, 8.4382e-02, 2.4673e-04, 1.0116e-02,\n",
       "         3.4419e-02, 1.1103e-02, 2.9608e-03, 6.5507e-02, 6.2916e-03, 1.2337e-04,\n",
       "         6.7851e-03, 5.6871e-02, 9.4375e-02, 2.2823e-02, 1.7271e-03, 2.9608e-03,\n",
       "         0.0000e+00, 2.6524e-02, 1.2337e-03],\n",
       "        [8.6715e-02, 1.8438e-01, 1.7953e-04, 3.0521e-03, 0.0000e+00, 1.2855e-01,\n",
       "         3.5907e-04, 3.5907e-04, 1.1616e-01, 9.5512e-02, 5.3860e-04, 0.0000e+00,\n",
       "         2.4057e-02, 7.1813e-04, 3.9497e-03, 1.1975e-01, 0.0000e+00, 0.0000e+00,\n",
       "         6.3196e-02, 6.2837e-03, 6.7145e-02, 1.4004e-02, 2.6930e-03, 1.9749e-03,\n",
       "         3.5907e-04, 6.1221e-02, 1.8851e-02],\n",
       "        [4.9442e-02, 5.1994e-02, 3.2855e-02, 3.2855e-02, 4.3381e-02, 5.3907e-02,\n",
       "         6.0606e-03, 1.4992e-02, 1.8501e-02, 3.8596e-02, 4.4657e-03, 2.9665e-02,\n",
       "         9.6013e-02, 4.9123e-02, 8.7719e-02, 3.1898e-03, 5.1037e-03, 3.1898e-03,\n",
       "         1.3206e-01, 1.5120e-01, 2.6156e-02, 9.5694e-04, 1.1802e-02, 2.7432e-02,\n",
       "         1.0845e-02, 4.1467e-03, 1.4354e-02],\n",
       "        [3.4201e-02, 2.4951e-01, 3.8865e-04, 0.0000e+00, 3.8865e-04, 2.2075e-01,\n",
       "         0.0000e+00, 0.0000e+00, 3.8865e-04, 3.5406e-01, 0.0000e+00, 1.1660e-03,\n",
       "         5.4411e-03, 0.0000e+00, 3.1092e-03, 5.9464e-02, 0.0000e+00, 0.0000e+00,\n",
       "         1.8655e-02, 0.0000e+00, 0.0000e+00, 2.7206e-03, 2.7206e-03, 0.0000e+00,\n",
       "         0.0000e+00, 4.7027e-02, 0.0000e+00],\n",
       "        [5.4898e-02, 3.0140e-01, 1.0764e-03, 0.0000e+00, 8.6114e-03, 1.6039e-01,\n",
       "         2.1529e-03, 1.0764e-03, 2.4758e-02, 1.5931e-01, 0.0000e+00, 6.4586e-03,\n",
       "         1.3994e-02, 2.1529e-03, 6.2433e-02, 3.8751e-02, 0.0000e+00, 0.0000e+00,\n",
       "         2.3681e-02, 2.1529e-02, 8.6114e-03, 2.6911e-02, 0.0000e+00, 2.1529e-03,\n",
       "         0.0000e+00, 7.8579e-02, 1.0764e-03],\n",
       "        [2.3529e-01, 1.4778e-01, 1.4347e-03, 5.7389e-03, 7.1736e-03, 5.1650e-02,\n",
       "         4.3042e-03, 0.0000e+00, 1.4347e-03, 1.4634e-01, 0.0000e+00, 0.0000e+00,\n",
       "         5.5954e-02, 1.4347e-03, 1.4347e-03, 5.8824e-02, 0.0000e+00, 0.0000e+00,\n",
       "         0.0000e+00, 4.4476e-02, 1.0043e-01, 7.1736e-03, 0.0000e+00, 4.3042e-03,\n",
       "         5.4519e-02, 4.3042e-02, 2.7260e-02],\n",
       "        [2.0530e-01, 2.1921e-01, 2.7619e-03, 1.1764e-02, 2.7823e-02, 3.0790e-02,\n",
       "         1.2275e-03, 3.0687e-03, 2.2504e-03, 1.9640e-02, 2.3527e-03, 8.7971e-03,\n",
       "         1.1293e-01, 1.5139e-02, 1.8678e-01, 2.7721e-02, 1.5344e-03, 6.1375e-04,\n",
       "         2.9767e-02, 4.1019e-02, 1.0638e-02, 1.4423e-02, 1.0843e-02, 4.0917e-04,\n",
       "         2.8642e-03, 2.3527e-03, 7.9787e-03],\n",
       "        [6.6722e-02, 3.5863e-01, 1.6681e-03, 8.3403e-04, 8.3403e-04, 1.5555e-01,\n",
       "         0.0000e+00, 4.1701e-04, 1.7932e-02, 1.5179e-01, 8.3403e-04, 8.3403e-04,\n",
       "         5.1293e-02, 1.4595e-02, 1.6681e-03, 4.5872e-02, 8.3403e-04, 0.0000e+00,\n",
       "         1.3344e-02, 1.6681e-03, 1.6681e-03, 3.0442e-02, 8.3403e-04, 1.2510e-03,\n",
       "         4.1701e-04, 6.1301e-02, 1.8766e-02]])"
      ]
     },
     "execution_count": 13,
     "metadata": {},
     "output_type": "execute_result"
    }
   ],
   "source": [
    "P = N.float()\n",
    "for i in range (27):\n",
    "    psum=P[i].sum()\n",
    "    for j in range(27):\n",
    "        P[i][j]=P[i][j]/psum\n",
    "P"
   ]
  },
  {
   "cell_type": "code",
   "execution_count": 14,
   "id": "03d1cf50",
   "metadata": {},
   "outputs": [
    {
     "data": {
      "text/plain": [
       "tensor([[32033.],\n",
       "        [33885.],\n",
       "        [ 2645.],\n",
       "        [ 3532.],\n",
       "        [ 5496.],\n",
       "        [20423.],\n",
       "        [  905.],\n",
       "        [ 1927.],\n",
       "        [ 7616.],\n",
       "        [17701.],\n",
       "        [ 2900.],\n",
       "        [ 5040.],\n",
       "        [13958.],\n",
       "        [ 6642.],\n",
       "        [18327.],\n",
       "        [ 7934.],\n",
       "        [ 1026.],\n",
       "        [  272.],\n",
       "        [12700.],\n",
       "        [ 8106.],\n",
       "        [ 5570.],\n",
       "        [ 3135.],\n",
       "        [ 2573.],\n",
       "        [  929.],\n",
       "        [  697.],\n",
       "        [ 9776.],\n",
       "        [ 2398.]])"
      ]
     },
     "execution_count": 14,
     "metadata": {},
     "output_type": "execute_result"
    }
   ],
   "source": [
    "P = N.float()\n",
    "P.sum(1,keepdim=True)\n"
   ]
  },
  {
   "cell_type": "markdown",
   "id": "2821d221",
   "metadata": {},
   "source": [
    "without keepdim the dimension of the matrix is lost {[27]} with keepdim it is {[27,1]}\n",
    "\n",
    "with keepdim :     27 rows,  27 col || \n",
    "                   27 rows,  1 col\n",
    "                   \n",
    "this will copy the output vector along all cols\n",
    "                   thus dividing normalizes the vec along the row\n",
    "        \n",
    "without keepdim :  27 rows,  27 col || \n",
    "                    1 rows,  27 col\n",
    "                    \n",
    "this will copy the output vector along all rows\n",
    "                   thus dividing normalizes the vec along the cols"
   ]
  },
  {
   "cell_type": "markdown",
   "id": "7e6a64dd",
   "metadata": {},
   "source": [
    "Broadcasting Rules : defines whether or not a pair of arrays can perform binary ops like div on tensors\n",
    "1. Each tensor has atleast 1 dimension\n",
    "2. When iterating over the dimension sizes, starting at the trailing dimension the dimension sizes must either be equal, one of them is 1 or one of them does not exist"
   ]
  },
  {
   "cell_type": "code",
   "execution_count": 15,
   "id": "bedaa2f4",
   "metadata": {},
   "outputs": [
    {
     "data": {
      "text/plain": [
       "tensor([[3.1192e-05, 1.3759e-01, 4.0767e-02, 4.8129e-02, 5.2745e-02, 4.7785e-02,\n",
       "         1.3038e-02, 2.0898e-02, 2.7293e-02, 1.8465e-02, 7.5577e-02, 9.2452e-02,\n",
       "         4.9064e-02, 7.9195e-02, 3.5777e-02, 1.2321e-02, 1.6095e-02, 2.9008e-03,\n",
       "         5.1154e-02, 6.4130e-02, 4.0830e-02, 2.4641e-03, 1.1759e-02, 9.6070e-03,\n",
       "         4.2109e-03, 1.6719e-02, 2.9008e-02],\n",
       "        [1.9583e-01, 1.6425e-02, 1.5983e-02, 1.3889e-02, 3.0756e-02, 2.0435e-02,\n",
       "         3.9809e-03, 4.9835e-03, 6.8796e-02, 4.8685e-02, 5.1899e-03, 1.6779e-02,\n",
       "         7.4575e-02, 4.8213e-02, 1.6039e-01, 1.8872e-03, 2.4475e-03, 1.7988e-03,\n",
       "         9.6279e-02, 3.2997e-02, 2.0288e-02, 1.1264e-02, 2.4623e-02, 4.7771e-03,\n",
       "         5.3963e-03, 6.0480e-02, 1.2857e-02],\n",
       "        [4.3039e-02, 1.2051e-01, 1.4596e-02, 7.4850e-04, 2.4701e-02, 2.4551e-01,\n",
       "         3.7425e-04, 3.7425e-04, 1.5719e-02, 8.1587e-02, 7.4850e-04, 3.7425e-04,\n",
       "         3.8922e-02, 3.7425e-04, 1.8713e-03, 3.9671e-02, 3.7425e-04, 3.7425e-04,\n",
       "         3.1549e-01, 3.3683e-03, 1.1228e-03, 1.7216e-02, 3.7425e-04, 3.7425e-04,\n",
       "         3.7425e-04, 3.1437e-02, 3.7425e-04],\n",
       "        [2.7536e-02, 2.2928e-01, 2.8098e-04, 1.2082e-02, 5.6196e-04, 1.5510e-01,\n",
       "         2.8098e-04, 8.4293e-04, 1.8685e-01, 7.6426e-02, 1.1239e-03, 8.9070e-02,\n",
       "         3.2874e-02, 2.8098e-04, 2.8098e-04, 1.0705e-01, 5.6196e-04, 3.3717e-03,\n",
       "         2.1635e-02, 1.6859e-03, 1.0115e-02, 1.0115e-02, 2.8098e-04, 2.8098e-04,\n",
       "         1.1239e-03, 2.9503e-02, 1.4049e-03],\n",
       "        [9.3609e-02, 2.3610e-01, 3.6212e-04, 7.2424e-04, 2.7159e-02, 2.3248e-01,\n",
       "         1.0864e-03, 4.7076e-03, 2.1546e-02, 1.2222e-01, 1.8106e-03, 7.2424e-04,\n",
       "         1.1045e-02, 5.6129e-03, 5.7940e-03, 6.8622e-02, 1.8106e-04, 3.6212e-04,\n",
       "         7.6951e-02, 5.4318e-03, 9.0531e-04, 1.6839e-02, 3.2591e-03, 4.3455e-03,\n",
       "         1.8106e-04, 5.7577e-02, 3.6212e-04],\n",
       "        [1.9482e-01, 3.3252e-02, 5.9658e-03, 7.5306e-03, 1.8826e-02, 6.2200e-02,\n",
       "         4.0587e-03, 6.1614e-03, 7.4817e-03, 4.0049e-02, 2.7384e-03, 8.7531e-03,\n",
       "         1.5888e-01, 3.7653e-02, 1.3086e-01, 1.3203e-02, 4.1076e-03, 7.3350e-04,\n",
       "         9.5795e-02, 4.2152e-02, 2.8411e-02, 3.4230e-03, 2.2689e-02, 2.4939e-03,\n",
       "         6.5037e-03, 5.2372e-02, 8.8998e-03],\n",
       "        [8.6910e-02, 2.6073e-01, 1.0730e-03, 1.0730e-03, 1.0730e-03, 1.3305e-01,\n",
       "         4.8283e-02, 2.1459e-03, 2.1459e-03, 1.7275e-01, 1.0730e-03, 3.2189e-03,\n",
       "         2.2532e-02, 1.0730e-03, 5.3648e-03, 6.5451e-02, 1.0730e-03, 1.0730e-03,\n",
       "         1.2339e-01, 7.5107e-03, 2.0386e-02, 1.1803e-02, 1.0730e-03, 5.3648e-03,\n",
       "         1.0730e-03, 1.6094e-02, 3.2189e-03],\n",
       "        [5.5783e-02, 1.6940e-01, 2.0471e-03, 5.1177e-04, 1.0235e-02, 1.7144e-01,\n",
       "         1.0235e-03, 1.3306e-02, 1.8475e-01, 9.7748e-02, 2.0471e-03, 5.1177e-04,\n",
       "         1.6888e-02, 3.5824e-03, 1.4330e-02, 4.2989e-02, 5.1177e-04, 5.1177e-04,\n",
       "         1.0338e-01, 1.5865e-02, 1.6377e-02, 4.4012e-02, 1.0235e-03, 1.3818e-02,\n",
       "         5.1177e-04, 1.6377e-02, 1.0235e-03],\n",
       "        [3.1532e-01, 2.9373e-01, 1.1775e-03, 3.9252e-04, 3.2710e-03, 8.8316e-02,\n",
       "         3.9252e-04, 3.9252e-04, 2.6168e-04, 9.5512e-02, 1.3084e-03, 3.9252e-03,\n",
       "         2.4336e-02, 1.5439e-02, 1.8187e-02, 3.7682e-02, 2.6168e-04, 2.6168e-04,\n",
       "         2.6822e-02, 4.1868e-03, 9.4204e-03, 2.1850e-02, 5.2335e-03, 1.4392e-03,\n",
       "         1.3084e-04, 2.7999e-02, 2.7476e-03],\n",
       "        [1.4046e-01, 1.3797e-01, 6.2613e-03, 2.8768e-02, 2.4876e-02, 9.3299e-02,\n",
       "         5.7536e-03, 2.4199e-02, 5.4152e-03, 4.6819e-03, 4.3434e-03, 2.5158e-02,\n",
       "         7.5925e-02, 2.4143e-02, 1.1998e-01, 3.3224e-02, 3.0460e-03, 2.9896e-03,\n",
       "         4.7947e-02, 7.4289e-02, 3.0573e-02, 6.2049e-03, 1.5230e-02, 5.0767e-04,\n",
       "         5.0767e-03, 4.3998e-02, 1.5681e-02],\n",
       "        [2.4599e-02, 5.0359e-01, 6.8329e-04, 1.7082e-03, 1.7082e-03, 1.5067e-01,\n",
       "         3.4165e-04, 3.4165e-04, 1.5716e-02, 4.0998e-02, 1.0249e-03, 1.0249e-03,\n",
       "         3.4165e-03, 2.0499e-03, 1.0249e-03, 1.6399e-01, 6.8329e-04, 3.4165e-04,\n",
       "         4.0998e-03, 2.7332e-03, 1.0249e-03, 6.9354e-02, 2.0499e-03, 2.3915e-03,\n",
       "         3.4165e-04, 3.7581e-03, 3.4165e-04],\n",
       "        [7.1837e-02, 3.4182e-01, 5.9207e-04, 5.9207e-04, 5.9207e-04, 1.7683e-01,\n",
       "         3.9471e-04, 1.9736e-04, 6.0785e-02, 1.0065e-01, 5.9207e-04, 4.1445e-03,\n",
       "         2.7630e-02, 1.9736e-03, 5.3286e-03, 6.8088e-02, 1.9736e-04, 1.9736e-04,\n",
       "         2.1709e-02, 1.8946e-02, 3.5524e-03, 1.0065e-02, 5.9207e-04, 6.9074e-03,\n",
       "         1.9736e-04, 7.4995e-02, 5.9207e-04],\n",
       "        [9.4029e-02, 1.8763e-01, 3.7898e-03, 1.8591e-03, 9.9392e-03, 2.0894e-01,\n",
       "         1.6446e-03, 5.0054e-04, 1.4301e-03, 1.7740e-01, 5.0054e-04, 1.7876e-03,\n",
       "         9.6246e-02, 4.3618e-03, 1.0726e-03, 4.9553e-02, 1.1441e-03, 2.8602e-04,\n",
       "         1.3586e-03, 6.7930e-03, 5.5774e-03, 2.3239e-02, 5.2199e-03, 1.2156e-03,\n",
       "         7.1505e-05, 1.1362e-01, 7.8656e-04],\n",
       "        [7.7523e-02, 3.8851e-01, 1.6944e-02, 7.7973e-03, 3.7487e-03, 1.2281e-01,\n",
       "         2.9990e-04, 1.4995e-04, 8.9969e-04, 1.8848e-01, 1.1996e-03, 2.9990e-04,\n",
       "         8.9969e-04, 2.5341e-02, 3.1489e-03, 6.7926e-02, 5.8480e-03, 1.4995e-04,\n",
       "         1.4695e-02, 5.3981e-03, 7.4974e-04, 2.0993e-02, 5.9979e-04, 4.4984e-04,\n",
       "         1.4995e-04, 4.3185e-02, 1.7994e-03],\n",
       "        [3.6853e-01, 1.6225e-01, 4.9036e-04, 1.1660e-02, 3.8411e-02, 7.4098e-02,\n",
       "         6.5381e-04, 1.4929e-02, 1.4711e-03, 9.4039e-02, 2.4518e-03, 3.2146e-03,\n",
       "         1.0679e-02, 1.0897e-03, 1.0390e-01, 2.7079e-02, 3.2690e-04, 1.6345e-04,\n",
       "         2.4518e-03, 1.5201e-02, 2.4191e-02, 5.2850e-03, 3.0511e-03, 6.5381e-04,\n",
       "         3.8139e-04, 2.5390e-02, 7.9547e-03],\n",
       "        [1.0752e-01, 1.8842e-02, 1.7711e-02, 1.4445e-02, 2.3992e-02, 1.6706e-02,\n",
       "         4.3964e-03, 5.6526e-03, 2.1605e-02, 8.7929e-03, 2.1354e-03, 8.6673e-03,\n",
       "         7.7880e-02, 3.2910e-02, 3.0298e-01, 1.4571e-02, 1.2059e-02, 5.0245e-04,\n",
       "         1.3315e-01, 6.3434e-02, 1.4948e-02, 3.4669e-02, 2.2233e-02, 1.4445e-02,\n",
       "         5.7782e-03, 1.3064e-02, 6.9087e-03],\n",
       "        [3.2289e-02, 1.9943e-01, 2.8490e-03, 1.8993e-03, 9.4967e-04, 1.8803e-01,\n",
       "         1.8993e-03, 9.4967e-04, 1.9468e-01, 5.8879e-02, 1.8993e-03, 1.8993e-03,\n",
       "         1.6144e-02, 1.8993e-03, 1.8993e-03, 5.6980e-02, 3.7987e-02, 9.4967e-04,\n",
       "         1.4435e-01, 1.6144e-02, 1.7094e-02, 4.7483e-03, 9.4967e-04, 9.4967e-04,\n",
       "         9.4967e-04, 1.2346e-02, 9.4967e-04],\n",
       "        [9.6990e-02, 4.6823e-02, 3.3445e-03, 3.3445e-03, 3.3445e-03, 6.6890e-03,\n",
       "         3.3445e-03, 3.3445e-03, 3.3445e-03, 4.6823e-02, 3.3445e-03, 3.3445e-03,\n",
       "         6.6890e-03, 1.0033e-02, 3.3445e-03, 1.0033e-02, 3.3445e-03, 3.3445e-03,\n",
       "         6.6890e-03, 1.0033e-02, 3.3445e-03, 6.9231e-01, 3.3445e-03, 1.3378e-02,\n",
       "         3.3445e-03, 3.3445e-03, 3.3445e-03],\n",
       "        [1.0827e-01, 1.8520e-01, 3.3001e-03, 7.8573e-03, 1.4772e-02, 1.3342e-01,\n",
       "         7.8573e-04, 6.0501e-03, 9.5859e-03, 2.3839e-01, 2.0429e-03, 7.1502e-03,\n",
       "         3.2529e-02, 1.2807e-02, 1.1079e-02, 6.8359e-02, 1.1786e-03, 1.3357e-03,\n",
       "         3.3472e-02, 1.5007e-02, 1.6422e-02, 1.9879e-02, 6.3644e-03, 1.7286e-03,\n",
       "         3.1429e-04, 6.0816e-02, 1.8858e-03],\n",
       "        [1.4386e-01, 1.4779e-01, 2.7050e-03, 7.5003e-03, 1.2296e-03, 1.0882e-01,\n",
       "         3.6887e-04, 3.6887e-04, 1.5812e-01, 8.4225e-02, 3.6887e-04, 1.0205e-02,\n",
       "         3.4428e-02, 1.1189e-02, 3.0739e-03, 6.5413e-02, 6.3937e-03, 2.4591e-04,\n",
       "         6.8855e-03, 5.6806e-02, 9.4184e-02, 2.2870e-02, 1.8443e-03, 3.0739e-03,\n",
       "         1.2296e-04, 2.6558e-02, 1.3525e-03],\n",
       "        [8.6475e-02, 1.8367e-01, 3.5733e-04, 3.2160e-03, 1.7867e-04, 1.2810e-01,\n",
       "         5.3600e-04, 5.3600e-04, 1.1578e-01, 9.5230e-02, 7.1467e-04, 1.7867e-04,\n",
       "         2.4120e-02, 8.9334e-04, 4.1093e-03, 1.1935e-01, 1.7867e-04, 1.7867e-04,\n",
       "         6.3070e-02, 6.4320e-03, 6.7000e-02, 1.4115e-02, 2.8587e-03, 2.1440e-03,\n",
       "         5.3600e-04, 6.1104e-02, 1.8939e-02],\n",
       "        [4.9336e-02, 5.1866e-02, 3.2891e-02, 3.2891e-02, 4.3327e-02, 5.3763e-02,\n",
       "         6.3251e-03, 1.5180e-02, 1.8659e-02, 3.8583e-02, 4.7438e-03, 2.9728e-02,\n",
       "         9.5509e-02, 4.9020e-02, 8.7287e-02, 3.4788e-03, 5.3763e-03, 3.4788e-03,\n",
       "         1.3125e-01, 1.5022e-01, 2.6249e-02, 1.2650e-03, 1.2018e-02, 2.7514e-02,\n",
       "         1.1069e-02, 4.4276e-03, 1.4548e-02],\n",
       "        [3.4231e-02, 2.4731e-01, 7.6923e-04, 3.8462e-04, 7.6923e-04, 2.1885e-01,\n",
       "         3.8462e-04, 3.8462e-04, 7.6923e-04, 3.5077e-01, 3.8462e-04, 1.5385e-03,\n",
       "         5.7692e-03, 3.8462e-04, 3.4615e-03, 5.9231e-02, 3.8462e-04, 3.8462e-04,\n",
       "         1.8846e-02, 3.8462e-04, 3.8462e-04, 3.0769e-03, 3.0769e-03, 3.8462e-04,\n",
       "         3.8462e-04, 4.6923e-02, 3.8462e-04],\n",
       "        [5.4393e-02, 2.9393e-01, 2.0921e-03, 1.0460e-03, 9.4142e-03, 1.5690e-01,\n",
       "         3.1381e-03, 2.0921e-03, 2.5105e-02, 1.5586e-01, 1.0460e-03, 7.3222e-03,\n",
       "         1.4644e-02, 3.1381e-03, 6.1715e-02, 3.8703e-02, 1.0460e-03, 1.0460e-03,\n",
       "         2.4059e-02, 2.1967e-02, 9.4142e-03, 2.7197e-02, 1.0460e-03, 3.1381e-03,\n",
       "         1.0460e-03, 7.7406e-02, 2.0921e-03],\n",
       "        [2.2790e-01, 1.4365e-01, 2.7624e-03, 6.9061e-03, 8.2873e-03, 5.1105e-02,\n",
       "         5.5249e-03, 1.3812e-03, 2.7624e-03, 1.4227e-01, 1.3812e-03, 1.3812e-03,\n",
       "         5.5249e-02, 2.7624e-03, 2.7624e-03, 5.8011e-02, 1.3812e-03, 1.3812e-03,\n",
       "         1.3812e-03, 4.4199e-02, 9.8066e-02, 8.2873e-03, 1.3812e-03, 5.5249e-03,\n",
       "         5.3867e-02, 4.2818e-02, 2.7624e-02],\n",
       "        [2.0484e-01, 2.1871e-01, 2.8563e-03, 1.1833e-02, 2.7849e-02, 3.0807e-02,\n",
       "         1.3261e-03, 3.1623e-03, 2.3462e-03, 1.9688e-02, 2.4482e-03, 8.8748e-03,\n",
       "         1.1272e-01, 1.5199e-02, 1.8637e-01, 2.7747e-02, 1.6322e-03, 7.1407e-04,\n",
       "         2.9787e-02, 4.1008e-02, 1.0711e-02, 1.4485e-02, 1.0915e-02, 5.1005e-04,\n",
       "         2.9583e-03, 2.4482e-03, 8.0588e-03],\n",
       "        [6.6392e-02, 3.5505e-01, 2.0619e-03, 1.2371e-03, 1.2371e-03, 1.5423e-01,\n",
       "         4.1237e-04, 8.2474e-04, 1.8144e-02, 1.5052e-01, 1.2371e-03, 1.2371e-03,\n",
       "         5.1134e-02, 1.4845e-02, 2.0619e-03, 4.5773e-02, 1.2371e-03, 4.1237e-04,\n",
       "         1.3608e-02, 2.0619e-03, 2.0619e-03, 3.0515e-02, 1.2371e-03, 1.6495e-03,\n",
       "         8.2474e-04, 6.1031e-02, 1.8969e-02]])"
      ]
     },
     "execution_count": 15,
     "metadata": {},
     "output_type": "execute_result"
    }
   ],
   "source": [
    "# 1 is added for modal smoothing\n",
    "\n",
    "P = (N+1).float()\n",
    "P /= P.sum(1,keepdim=True)\n",
    "P"
   ]
  },
  {
   "cell_type": "code",
   "execution_count": 16,
   "id": "f3419dac",
   "metadata": {},
   "outputs": [
    {
     "name": "stdout",
     "output_type": "stream",
     "text": [
      "mor.\n",
      "axx.\n",
      "minaymoryles.\n",
      "kondlaisah.\n",
      "anchshizarie.\n",
      "odaren.\n",
      "iaddash.\n",
      "h.\n",
      "jhinatien.\n",
      "egushl.\n"
     ]
    }
   ],
   "source": [
    "g = torch.Generator().manual_seed(2147483647)\n",
    "for i in range(10):\n",
    "    out=[]\n",
    "    ix = 0\n",
    "    while True:\n",
    "        p = P[ix]    \n",
    "#         p = N[ix].float()\n",
    "#         p = p/p.sum()\n",
    "# without any probability distribution --->  p = torch.ones(27) / 27.0\n",
    "        ix = torch.multinomial(p,num_samples=1,replacement=True,generator=g).item()\n",
    "        out.append(itos[ix])\n",
    "        if ix==0:\n",
    "            break\n",
    "    print(''.join(out))"
   ]
  },
  {
   "cell_type": "code",
   "execution_count": 17,
   "id": "befdb226",
   "metadata": {},
   "outputs": [
    {
     "data": {
      "text/plain": [
       "tensor(1.)"
      ]
     },
     "execution_count": 17,
     "metadata": {},
     "output_type": "execute_result"
    }
   ],
   "source": [
    "P[0].sum()"
   ]
  },
  {
   "cell_type": "markdown",
   "id": "10a99ef7",
   "metadata": {},
   "source": [
    "# Quality of the Modal"
   ]
  },
  {
   "cell_type": "code",
   "execution_count": 18,
   "id": "b41a3d86",
   "metadata": {},
   "outputs": [
    {
     "name": "stdout",
     "output_type": "stream",
     "text": [
      ".e : 0.04779 -3.04104\n",
      "em : 0.03765 -3.27935\n",
      "mm : 0.02534 -3.67533\n",
      "ma : 0.38851 -0.94543\n",
      "a. : 0.19583 -1.63051\n",
      ".o : 0.01232 -4.39648\n",
      "ol : 0.07788 -2.55259\n",
      "li : 0.17740 -1.72932\n",
      "iv : 0.01523 -4.18448\n",
      "vi : 0.35077 -1.04763\n",
      "ia : 0.13797 -1.98069\n",
      "a. : 0.19583 -1.63051\n",
      ".a : 0.13759 -1.98351\n",
      "av : 0.02462 -3.70409\n",
      "va : 0.24731 -1.39712\n",
      "a. : 0.19583 -1.63051\n",
      "log_likelihood=tensor(-38.8086)\n",
      "nll=tensor(38.8086)\n",
      "2.4255354404449463\n"
     ]
    }
   ],
   "source": [
    "log_likelihood = 0.0\n",
    "n=0\n",
    "for w in words[:3]:\n",
    "# for w in [\"joy\"]:\n",
    "    chs = ['.'] + list(w) + ['.']\n",
    "    for ch1,ch2 in zip(chs,chs[1:]):\n",
    "        x1 = stoi[ch1]\n",
    "        x2 = stoi[ch2]\n",
    "        prob = P[x1,x2]\n",
    "        logprob = torch.log(prob)\n",
    "        log_likelihood += logprob\n",
    "        n+=1\n",
    "        print(f'{ch1}{ch2} : {prob:.5f} {logprob:.5f}')\n",
    "print(f'{log_likelihood=}')\n",
    "nll = -log_likelihood\n",
    "print(f'{nll=}')\n",
    "print(f'{nll/n}')"
   ]
  },
  {
   "cell_type": "markdown",
   "id": "9fe32b9d",
   "metadata": {},
   "source": [
    "likelihood is obtained by multiplyinh all the probs of all bigram entries\n",
    "but it'll turn out to be a small value \n",
    "thus we use logarithmic likelihood for lokelihood estimation"
   ]
  },
  {
   "cell_type": "markdown",
   "id": "b57530cd",
   "metadata": {},
   "source": [
    "we tend to achieve higher log likelihood (closer to 0)\n",
    "we invert the log likelihood to make is similar to loss fun \n",
    "bcz we tend to achieve a lower loss "
   ]
  },
  {
   "cell_type": "markdown",
   "id": "bc104fdd",
   "metadata": {},
   "source": [
    "nll = negative log likelihood\n",
    "\n",
    "it is a general practice to use avg nll instead to total sum of log likelihood"
   ]
  },
  {
   "cell_type": "markdown",
   "id": "77b0f171",
   "metadata": {},
   "source": [
    "We tend to find the parameters that minimises the avg nll(push it close to 0)"
   ]
  },
  {
   "cell_type": "markdown",
   "id": "cb64c24c",
   "metadata": {},
   "source": [
    "# Neural Network for bigarm charcter level model"
   ]
  },
  {
   "cell_type": "code",
   "execution_count": 19,
   "id": "21185368",
   "metadata": {},
   "outputs": [
    {
     "name": "stdout",
     "output_type": "stream",
     "text": [
      "tensor([ 5, 13, 13,  1,  0])\n"
     ]
    }
   ],
   "source": [
    "#creating the training set for bigram(x,y)\n",
    "xs=[]\n",
    "ys=[]\n",
    "for w in words[:1]:\n",
    "    chs = ['.'] + list(w) + ['.']\n",
    "    for ch1,ch2 in zip(chs,chs[1:]):\n",
    "        x1 = stoi[ch1]\n",
    "        x2 = stoi[ch2]\n",
    "#         print(ch1,ch2)\n",
    "        xs.append(x1)\n",
    "        ys.append(x2)\n",
    "xs = torch.tensor(xs)\n",
    "ys = torch.tensor(ys)\n",
    "print(ys)"
   ]
  },
  {
   "cell_type": "code",
   "execution_count": null,
   "id": "5ed7b5e3",
   "metadata": {},
   "outputs": [],
   "source": []
  },
  {
   "cell_type": "markdown",
   "id": "094f8df6",
   "metadata": {},
   "source": [
    "a tensor can be cerated using 2 ways :\n",
    "    1. torch.tensor --- creates a int32 type tensor\n",
    "    2. torch.Tensor class --- creates a float type tensor\n",
    "    \n",
    "we use int32 type bcz oe hot only encodes index inputs (i.e. int inputs)   "
   ]
  },
  {
   "cell_type": "markdown",
   "id": "3adbb0cb",
   "metadata": {},
   "source": [
    "we cannot feed a tensor directly to a nn\n",
    "so we use 1 hot encoding and convert the value to a vector with only desired value as one "
   ]
  },
  {
   "cell_type": "code",
   "execution_count": 20,
   "id": "9fc9800a",
   "metadata": {},
   "outputs": [],
   "source": [
    "import torch.nn.functional as F\n",
    "g = torch.Generator().manual_seed(2147483647 + 2)\n",
    "xenc = F.one_hot(xs,num_classes=27)"
   ]
  },
  {
   "cell_type": "code",
   "execution_count": 21,
   "id": "e63a0739",
   "metadata": {},
   "outputs": [
    {
     "data": {
      "text/plain": [
       "<matplotlib.image.AxesImage at 0x242b7755220>"
      ]
     },
     "execution_count": 21,
     "metadata": {},
     "output_type": "execute_result"
    },
    {
     "data": {
      "image/png": "[encoded data removed]",
      "text/plain": [
       "<Figure size 432x288 with 1 Axes>"
      ]
     },
     "metadata": {
      "needs_background": "light"
     },
     "output_type": "display_data"
    }
   ],
   "source": [
    "plt.imshow(xenc)"
   ]
  },
  {
   "cell_type": "markdown",
   "id": "b38681a4",
   "metadata": {},
   "source": [
    "we need float type tensors as we feed float values to a neural network"
   ]
  },
  {
   "cell_type": "code",
   "execution_count": 22,
   "id": "0e232e04",
   "metadata": {},
   "outputs": [
    {
     "data": {
      "text/plain": [
       "torch.int64"
      ]
     },
     "execution_count": 22,
     "metadata": {},
     "output_type": "execute_result"
    }
   ],
   "source": [
    "xenc.dtype"
   ]
  },
  {
   "cell_type": "code",
   "execution_count": 23,
   "id": "4d0c2a9a",
   "metadata": {},
   "outputs": [],
   "source": [
    "# Casting x encoded to float\n",
    "xenc = xenc.float()"
   ]
  },
  {
   "cell_type": "code",
   "execution_count": 24,
   "id": "237b9d9a",
   "metadata": {},
   "outputs": [
    {
     "data": {
      "text/plain": [
       "torch.float32"
      ]
     },
     "execution_count": 24,
     "metadata": {},
     "output_type": "execute_result"
    }
   ],
   "source": [
    "xenc.dtype"
   ]
  },
  {
   "cell_type": "code",
   "execution_count": 25,
   "id": "260430bb",
   "metadata": {},
   "outputs": [
    {
     "data": {
      "text/plain": [
       "tensor([[-0.6839],\n",
       "        [ 0.6324],\n",
       "        [ 0.4438],\n",
       "        [ 0.4438],\n",
       "        [ 0.0283]])"
      ]
     },
     "execution_count": 25,
     "metadata": {},
     "output_type": "execute_result"
    }
   ],
   "source": [
    "#initializing random wts using standard normal distribution(-3 to 3)\n",
    "# distributed normally arround 0\n",
    "\n",
    "#feeding the input to a single neuron\n",
    "W = torch.randn((27,1),generator = g)\n",
    "\n",
    "#Multiplying xenc with random wts\n",
    "# @ is a matrix multiplication operator in py torch\n",
    "xenc @ W\n",
    "\n",
    "#  (5,27) @ (27,1) => (5,1)    ... basic matrix multiplication"
   ]
  },
  {
   "cell_type": "code",
   "execution_count": 26,
   "id": "d5db7806",
   "metadata": {},
   "outputs": [
    {
     "data": {
      "text/plain": [
       "tensor([[-1.5462e+00, -1.4104e+00,  2.7538e-01,  1.9507e+00, -1.2905e+00,\n",
       "          1.0574e+00, -3.3172e-01,  3.2719e-01, -5.2472e-04, -3.4924e-01,\n",
       "         -7.8737e-01,  1.3339e+00,  1.2336e+00, -9.2912e-01, -2.5668e-01,\n",
       "          9.9428e-01, -1.1947e+00, -1.5365e+00, -1.2931e+00,  8.3000e-01,\n",
       "          4.8896e-01, -2.9991e-01,  1.2834e+00, -8.2386e-01, -1.0656e+00,\n",
       "          1.6010e-01, -9.2743e-02],\n",
       "        [ 1.4356e-02, -8.0227e-01,  1.6108e+00, -6.1481e-01,  9.5548e-01,\n",
       "         -9.6272e-01, -3.2109e-01, -1.0515e-01, -7.8300e-01, -2.0771e-01,\n",
       "          4.8995e-01,  1.2597e+00,  1.3718e+00,  6.2590e-01, -3.9265e-01,\n",
       "          1.1500e+00, -8.4613e-01, -2.6783e-01,  3.4249e-01,  6.1969e-01,\n",
       "          2.3505e+00, -3.8187e-01,  9.6924e-01, -3.7740e-01,  3.2931e-02,\n",
       "         -4.0315e-01,  1.2235e+00],\n",
       "        [ 4.6489e-01,  5.2268e-01, -4.6673e-01, -2.3613e-01,  1.2714e+00,\n",
       "         -1.1982e+00, -1.1946e-01, -1.0109e+00, -1.2191e+00,  1.1817e+00,\n",
       "         -1.1744e+00,  8.5509e-01, -3.1915e-01,  1.3020e-01, -1.5752e-01,\n",
       "          1.0132e+00, -1.5090e+00, -7.7805e-01,  8.9837e-02,  4.6633e-01,\n",
       "         -1.4638e+00,  4.9887e-01, -1.7292e+00,  7.6436e-01, -5.8594e-01,\n",
       "         -6.4201e-01, -5.9056e-01],\n",
       "        [ 4.6489e-01,  5.2268e-01, -4.6673e-01, -2.3613e-01,  1.2714e+00,\n",
       "         -1.1982e+00, -1.1946e-01, -1.0109e+00, -1.2191e+00,  1.1817e+00,\n",
       "         -1.1744e+00,  8.5509e-01, -3.1915e-01,  1.3020e-01, -1.5752e-01,\n",
       "          1.0132e+00, -1.5090e+00, -7.7805e-01,  8.9837e-02,  4.6633e-01,\n",
       "         -1.4638e+00,  4.9887e-01, -1.7292e+00,  7.6436e-01, -5.8594e-01,\n",
       "         -6.4201e-01, -5.9056e-01],\n",
       "        [ 6.6425e-01,  4.3254e-01, -5.7130e-02, -3.5821e-02, -5.2855e-01,\n",
       "         -9.9222e-01, -1.3482e+00,  6.7511e-03,  5.4273e-02, -1.4442e+00,\n",
       "          1.3258e+00,  8.4053e-01,  2.4620e+00,  1.3320e-01,  1.6354e-03,\n",
       "          8.3641e-01, -3.0020e-01,  1.8162e+00,  8.2978e-01, -7.7001e-01,\n",
       "          3.4937e-01,  1.3457e+00,  6.1990e-01,  6.0254e-01,  4.0600e-01,\n",
       "          8.1829e-01, -6.6583e-01]])"
      ]
     },
     "execution_count": 26,
     "metadata": {},
     "output_type": "execute_result"
    }
   ],
   "source": [
    "#feeding the input simultaneously to 27 neurons\n",
    "W = torch.randn((27,27),generator=g)\n",
    "xenc @ W\n",
    "#  (5,27) @ (27,27) => (5,27)    ... basic matrix multiplication"
   ]
  },
  {
   "cell_type": "code",
   "execution_count": 27,
   "id": "8cf73afd",
   "metadata": {},
   "outputs": [
    {
     "data": {
      "text/plain": [
       "<matplotlib.image.AxesImage at 0x242b76eb6a0>"
      ]
     },
     "execution_count": 27,
     "metadata": {},
     "output_type": "execute_result"
    },
    {
     "data": {
      "image/png": "[encoded data removed]",
      "text/plain": [
       "<Figure size 432x288 with 1 Axes>"
      ]
     },
     "metadata": {
      "needs_background": "light"
     },
     "output_type": "display_data"
    }
   ],
   "source": [
    "plt.imshow(xenc @ W) "
   ]
  },
  {
   "cell_type": "code",
   "execution_count": 28,
   "id": "2890195d",
   "metadata": {},
   "outputs": [
    {
     "data": {
      "text/plain": [
       "tensor([[0.0054, 0.0062, 0.0335, 0.1792, 0.0070, 0.0733, 0.0183, 0.0353, 0.0255,\n",
       "         0.0180, 0.0116, 0.0967, 0.0875, 0.0101, 0.0197, 0.0688, 0.0077, 0.0055,\n",
       "         0.0070, 0.0584, 0.0415, 0.0189, 0.0919, 0.0112, 0.0088, 0.0299, 0.0232],\n",
       "        [0.0196, 0.0087, 0.0968, 0.0104, 0.0502, 0.0074, 0.0140, 0.0174, 0.0088,\n",
       "         0.0157, 0.0315, 0.0681, 0.0762, 0.0361, 0.0130, 0.0610, 0.0083, 0.0148,\n",
       "         0.0272, 0.0359, 0.2027, 0.0132, 0.0509, 0.0132, 0.0200, 0.0129, 0.0657],\n",
       "        [0.0518, 0.0549, 0.0204, 0.0257, 0.1161, 0.0098, 0.0289, 0.0118, 0.0096,\n",
       "         0.1061, 0.0101, 0.0766, 0.0237, 0.0371, 0.0278, 0.0897, 0.0072, 0.0150,\n",
       "         0.0356, 0.0519, 0.0075, 0.0536, 0.0058, 0.0699, 0.0181, 0.0171, 0.0180],\n",
       "        [0.0518, 0.0549, 0.0204, 0.0257, 0.1161, 0.0098, 0.0289, 0.0118, 0.0096,\n",
       "         0.1061, 0.0101, 0.0766, 0.0237, 0.0371, 0.0278, 0.0897, 0.0072, 0.0150,\n",
       "         0.0356, 0.0519, 0.0075, 0.0536, 0.0058, 0.0699, 0.0181, 0.0171, 0.0180],\n",
       "        [0.0360, 0.0285, 0.0175, 0.0179, 0.0109, 0.0069, 0.0048, 0.0186, 0.0195,\n",
       "         0.0044, 0.0697, 0.0429, 0.2170, 0.0211, 0.0185, 0.0427, 0.0137, 0.1138,\n",
       "         0.0424, 0.0086, 0.0262, 0.0711, 0.0344, 0.0338, 0.0278, 0.0419, 0.0095]])"
      ]
     },
     "execution_count": 28,
     "metadata": {},
     "output_type": "execute_result"
    }
   ],
   "source": [
    "#softmax layer  -- outputs prob distribution\n",
    "#               -- take logits as input\n",
    "#               -- exponentiate them\n",
    "#               -- normalize them\n",
    "logits = (xenc @ W) #log counts\n",
    "counts = logits.exp()\n",
    "probs = counts / counts.sum(1,keepdim =True)\n",
    "probs"
   ]
  },
  {
   "cell_type": "code",
   "execution_count": 29,
   "id": "401e16bb",
   "metadata": {},
   "outputs": [
    {
     "data": {
      "text/plain": [
       "tensor(1.)"
      ]
     },
     "execution_count": 29,
     "metadata": {},
     "output_type": "execute_result"
    }
   ],
   "source": [
    "probs[0].sum()"
   ]
  },
  {
   "cell_type": "markdown",
   "id": "7610722d",
   "metadata": {},
   "source": [
    "Our Task now is to find the W(s) that gives best prob distribution that produces the ys for given xs"
   ]
  },
  {
   "cell_type": "code",
   "execution_count": 30,
   "id": "3cc34579",
   "metadata": {},
   "outputs": [
    {
     "name": "stdout",
     "output_type": "stream",
     "text": [
      "\n",
      "\n",
      "-------------------------------------------------------\n",
      "\n",
      "bigram example 1: .e (indexes 0,5)\n",
      "Input to the Neural Network :  0\n",
      "Output probabilities for the neural network :  tensor([0.0054, 0.0062, 0.0335, 0.1792, 0.0070, 0.0733, 0.0183, 0.0353, 0.0255,\n",
      "        0.0180, 0.0116, 0.0967, 0.0875, 0.0101, 0.0197, 0.0688, 0.0077, 0.0055,\n",
      "        0.0070, 0.0584, 0.0415, 0.0189, 0.0919, 0.0112, 0.0088, 0.0299, 0.0232])\n",
      "Label( Actual next character) :  5\n",
      "Probability assigned by the network to the correct character :  0.07332637161016464\n",
      "Log Likelihood :  tensor(-2.6128)\n",
      "Negative log likelihood :  2.612834930419922\n",
      "\n",
      "\n",
      "-------------------------------------------------------\n",
      "\n",
      "bigram example 2: em (indexes 5,13)\n",
      "Input to the Neural Network :  5\n",
      "Output probabilities for the neural network :  tensor([0.0196, 0.0087, 0.0968, 0.0104, 0.0502, 0.0074, 0.0140, 0.0174, 0.0088,\n",
      "        0.0157, 0.0315, 0.0681, 0.0762, 0.0361, 0.0130, 0.0610, 0.0083, 0.0148,\n",
      "        0.0272, 0.0359, 0.2027, 0.0132, 0.0509, 0.0132, 0.0200, 0.0129, 0.0657])\n",
      "Label( Actual next character) :  13\n",
      "Probability assigned by the network to the correct character :  0.03613603487610817\n",
      "Log Likelihood :  tensor(-3.3205)\n",
      "Negative log likelihood :  3.320464611053467\n",
      "\n",
      "\n",
      "-------------------------------------------------------\n",
      "\n",
      "bigram example 3: mm (indexes 13,13)\n",
      "Input to the Neural Network :  13\n",
      "Output probabilities for the neural network :  tensor([0.0518, 0.0549, 0.0204, 0.0257, 0.1161, 0.0098, 0.0289, 0.0118, 0.0096,\n",
      "        0.1061, 0.0101, 0.0766, 0.0237, 0.0371, 0.0278, 0.0897, 0.0072, 0.0150,\n",
      "        0.0356, 0.0519, 0.0075, 0.0536, 0.0058, 0.0699, 0.0181, 0.0171, 0.0180])\n",
      "Label( Actual next character) :  13\n",
      "Probability assigned by the network to the correct character :  0.0370868518948555\n",
      "Log Likelihood :  tensor(-3.2945)\n",
      "Negative log likelihood :  3.294492721557617\n",
      "\n",
      "\n",
      "-------------------------------------------------------\n",
      "\n",
      "bigram example 4: ma (indexes 13,1)\n",
      "Input to the Neural Network :  13\n",
      "Output probabilities for the neural network :  tensor([0.0518, 0.0549, 0.0204, 0.0257, 0.1161, 0.0098, 0.0289, 0.0118, 0.0096,\n",
      "        0.1061, 0.0101, 0.0766, 0.0237, 0.0371, 0.0278, 0.0897, 0.0072, 0.0150,\n",
      "        0.0356, 0.0519, 0.0075, 0.0536, 0.0058, 0.0699, 0.0181, 0.0171, 0.0180])\n",
      "Label( Actual next character) :  1\n",
      "Probability assigned by the network to the correct character :  0.054912690073251724\n",
      "Log Likelihood :  tensor(-2.9020)\n",
      "Negative log likelihood :  2.902010917663574\n",
      "\n",
      "\n",
      "-------------------------------------------------------\n",
      "\n",
      "bigram example 5: a. (indexes 1,0)\n",
      "Input to the Neural Network :  1\n",
      "Output probabilities for the neural network :  tensor([0.0360, 0.0285, 0.0175, 0.0179, 0.0109, 0.0069, 0.0048, 0.0186, 0.0195,\n",
      "        0.0044, 0.0697, 0.0429, 0.2170, 0.0211, 0.0185, 0.0427, 0.0137, 0.1138,\n",
      "        0.0424, 0.0086, 0.0262, 0.0711, 0.0344, 0.0338, 0.0278, 0.0419, 0.0095])\n",
      "Label( Actual next character) :  0\n",
      "Probability assigned by the network to the correct character :  0.03595181182026863\n",
      "Log Likelihood :  tensor(-3.3256)\n",
      "Negative log likelihood :  3.325575828552246\n",
      "\n",
      "\n",
      "=============================================================\n",
      "\n",
      "Average nll ,i.e. loss =  3.0910756587982178\n"
     ]
    }
   ],
   "source": [
    "nlls = torch.zeros(5)\n",
    "for i in range(5):\n",
    "    x = xs[i].item()\n",
    "    y = ys[i].item()\n",
    "    print(\"\\n\\n-------------------------------------------------------\\n\")\n",
    "    print(f'bigram example {i+1}: {itos[x]}{itos[y]} (indexes {x},{y})')\n",
    "    print('Input to the Neural Network : ',x)\n",
    "    print('Output probabilities for the neural network : ',probs[i])\n",
    "    print('Label( Actual next character) : ',y)\n",
    "    p = probs[i,y]\n",
    "    print('Probability assigned by the network to the correct character : ',p.item())\n",
    "    logp = torch.log(p)\n",
    "    print('Log Likelihood : ',logp)\n",
    "    nll = -logp\n",
    "    print('Negative log likelihood : ',nll.item())\n",
    "    nlls[i] = nll\n",
    "\n",
    "print('\\n\\n=============================================================\\n')\n",
    "print('Average nll ,i.e. loss = ',nlls.mean().item())"
   ]
  },
  {
   "cell_type": "code",
   "execution_count": 31,
   "id": "08001dfb",
   "metadata": {},
   "outputs": [
    {
     "data": {
      "text/plain": [
       "tensor([ 0,  5, 13, 13,  1])"
      ]
     },
     "execution_count": 31,
     "metadata": {},
     "output_type": "execute_result"
    }
   ],
   "source": [
    "xs"
   ]
  },
  {
   "cell_type": "code",
   "execution_count": 32,
   "id": "a5e6084c",
   "metadata": {},
   "outputs": [
    {
     "data": {
      "text/plain": [
       "tensor([ 5, 13, 13,  1,  0])"
      ]
     },
     "execution_count": 32,
     "metadata": {},
     "output_type": "execute_result"
    }
   ],
   "source": [
    "ys"
   ]
  },
  {
   "cell_type": "code",
   "execution_count": 33,
   "id": "c0dada68",
   "metadata": {},
   "outputs": [
    {
     "data": {
      "text/plain": [
       "(tensor(0.0733),\n",
       " tensor(0.0361),\n",
       " tensor(0.0371),\n",
       " tensor(0.0549),\n",
       " tensor(0.0360))"
      ]
     },
     "execution_count": 33,
     "metadata": {},
     "output_type": "execute_result"
    }
   ],
   "source": [
    "probs[0,5], probs[1,13], probs[2,13], probs[3,1], probs[4,0]"
   ]
  },
  {
   "cell_type": "code",
   "execution_count": 34,
   "id": "e99bf451",
   "metadata": {},
   "outputs": [
    {
     "name": "stdout",
     "output_type": "stream",
     "text": [
      "Number of exapmles :  228146\n"
     ]
    }
   ],
   "source": [
    "#creating the training set for bigram(x,y)\n",
    "xs=[]\n",
    "ys=[]\n",
    "for w in words:\n",
    "    chs = ['.'] + list(w) + ['.']\n",
    "    for ch1,ch2 in zip(chs,chs[1:]):\n",
    "        x1 = stoi[ch1]\n",
    "        x2 = stoi[ch2]\n",
    "#         print(ch1,ch2)\n",
    "        xs.append(x1)\n",
    "        ys.append(x2)\n",
    "xs = torch.tensor(xs)\n",
    "ys = torch.tensor(ys)\n",
    "num = xs.nelement()\n",
    "print('Number of exapmles : ',num)\n",
    "\n",
    "\n",
    "#randomly initialize 27 neurons' weights, each neuron receives 27 inputs\n",
    "g = torch.Generator().manual_seed(2147483647)\n",
    "W = torch.randn((27,27),generator=g,requires_grad = True) "
   ]
  },
  {
   "cell_type": "code",
   "execution_count": 37,
   "id": "bab12339",
   "metadata": {},
   "outputs": [
    {
     "name": "stdout",
     "output_type": "stream",
     "text": [
      "2.4726529121398926\n",
      "2.4724340438842773\n",
      "2.4722201824188232\n",
      "2.472010850906372\n",
      "2.4718058109283447\n",
      "2.4716053009033203\n",
      "2.4714088439941406\n",
      "2.471216917037964\n",
      "2.4710280895233154\n",
      "2.470843553543091\n",
      "2.4706623554229736\n",
      "2.4704854488372803\n",
      "2.4703118801116943\n",
      "2.4701414108276367\n",
      "2.4699742794036865\n",
      "2.469810724258423\n",
      "2.4696500301361084\n",
      "2.4694924354553223\n",
      "2.4693379402160645\n",
      "2.4691860675811768\n",
      "2.4690370559692383\n",
      "2.468890905380249\n",
      "2.468747615814209\n",
      "2.46860671043396\n",
      "2.46846866607666\n",
      "2.468332290649414\n",
      "2.4681992530822754\n",
      "2.4680681228637695\n",
      "2.4679393768310547\n",
      "2.4678127765655518\n",
      "2.467688798904419\n",
      "2.46756649017334\n",
      "2.4674463272094727\n",
      "2.4673283100128174\n",
      "2.4672117233276367\n",
      "2.467097759246826\n",
      "2.4669854640960693\n",
      "2.4668750762939453\n",
      "2.466766595840454\n",
      "2.4666595458984375\n",
      "2.466554641723633\n",
      "2.466451406478882\n",
      "2.4663491249084473\n",
      "2.4662492275238037\n",
      "2.4661502838134766\n",
      "2.466053009033203\n",
      "2.4659574031829834\n",
      "2.4658634662628174\n",
      "2.465770721435547\n",
      "2.465679407119751\n",
      "2.4655895233154297\n",
      "2.465500593185425\n",
      "2.4654135704040527\n",
      "2.465327501296997\n",
      "2.465242624282837\n",
      "2.4651591777801514\n",
      "2.4650766849517822\n",
      "2.4649956226348877\n",
      "2.4649155139923096\n",
      "2.464836597442627\n",
      "2.46475887298584\n",
      "2.464682102203369\n",
      "2.464606285095215\n",
      "2.464531660079956\n",
      "2.4644582271575928\n",
      "2.464385747909546\n",
      "2.4643139839172363\n",
      "2.464243173599243\n",
      "2.4641737937927246\n",
      "2.464104652404785\n",
      "2.464036703109741\n",
      "2.4639699459075928\n",
      "2.4639036655426025\n",
      "2.4638383388519287\n",
      "2.463773727416992\n",
      "2.463710308074951\n",
      "2.4636473655700684\n",
      "2.463585376739502\n",
      "2.4635238647460938\n",
      "2.463463544845581\n",
      "2.4634039402008057\n",
      "2.4633448123931885\n",
      "2.4632866382598877\n",
      "2.463228940963745\n",
      "2.4631717205047607\n",
      "2.463115692138672\n",
      "2.463060140609741\n",
      "2.4630050659179688\n",
      "2.4629507064819336\n",
      "2.4628970623016357\n",
      "2.462843894958496\n",
      "2.462791681289673\n",
      "2.4627397060394287\n",
      "2.462688684463501\n",
      "2.4626379013061523\n",
      "2.462587833404541\n",
      "2.462538242340088\n",
      "2.462489128112793\n",
      "2.4624407291412354\n",
      "2.462392807006836\n"
     ]
    }
   ],
   "source": [
    "for k in range(100) :\n",
    "    #forward Pass\n",
    "    xenc = F.one_hot(xs,num_classes=27).float()\n",
    "    logits = xenc @ W\n",
    "    counts = logits.exp()\n",
    "    probs = counts / counts.sum(1,keepdim= True)\n",
    "    loss = -probs[torch.arange(num),ys].log().mean()\n",
    "    print(loss.item())\n",
    "    \n",
    "    #backward Pass\n",
    "    W.grad = None #set to zero the gradient\n",
    "    loss.backward()\n",
    "    \n",
    "    #update\n",
    "    W.data += -50 * W.grad  #learning rate "
   ]
  },
  {
   "cell_type": "markdown",
   "id": "29ab5e29",
   "metadata": {},
   "source": [
    "W.grad\n",
    "it defines the effect of each entry on the loss fun\n",
    "positive grads defines that say picking W[0,0] and adding small h\n",
    "to it W[0,0] += h will increase the loss as the grad effect\n",
    "at W.grad[0,0] is positive"
   ]
  },
  {
   "cell_type": "code",
   "execution_count": 38,
   "id": "7afba54b",
   "metadata": {},
   "outputs": [
    {
     "name": "stdout",
     "output_type": "stream",
     "text": [
      "mor.\n",
      "axwaninaymoryles.\n",
      "kondlaisah.\n",
      "anchshizarie.\n",
      "odaren.\n"
     ]
    }
   ],
   "source": [
    "# sample from the Neural Network\n",
    "g = torch.Generator().manual_seed(2147483647)\n",
    "\n",
    "for i in range(5):\n",
    "    \n",
    "    out=[]\n",
    "    ix = 0\n",
    "    while True:\n",
    "#         p = P[ix]    \n",
    "#         p = N[ix].float()\n",
    "#         p = p/p.sum()\n",
    "# without any probability distribution --->  p = torch.ones(27) / 27.0\n",
    "        xenc = F.one_hot(torch.tensor([ix]),num_classes=27).float()\n",
    "        logits = xenc @ W\n",
    "        counts = logits.exp()\n",
    "        p = counts / counts.sum(1,keepdims= True) \n",
    "    \n",
    "        ix = torch.multinomial(p,num_samples=1,replacement=True,generator=g).item()\n",
    "        out.append(itos[ix])\n",
    "        if ix==0:\n",
    "            break\n",
    "    print(''.join(out))"
   ]
  },
  {
   "cell_type": "code",
   "execution_count": null,
   "id": "dc39258d",
   "metadata": {},
   "outputs": [],
   "source": []
  }
 ],
 "metadata": {
  "kernelspec": {
   "display_name": "Python 3 (ipykernel)",
   "language": "python",
   "name": "python3"
  },
  "language_info": {
   "codemirror_mode": {
    "name": "ipython",
    "version": 3
   },
   "file_extension": ".py",
   "mimetype": "text/x-python",
   "name": "python",
   "nbconvert_exporter": "python",
   "pygments_lexer": "ipython3",
   "version": "3.9.12"
  }
 },
 "nbformat": 4,
 "nbformat_minor": 5
}
