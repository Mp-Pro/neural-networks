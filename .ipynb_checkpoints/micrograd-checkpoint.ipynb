{
 "cells": [
  {
   "cell_type": "code",
   "execution_count": 81,
   "id": "822b7bb9",
   "metadata": {},
   "outputs": [],
   "source": [
    "import math\n",
    "class Value:\n",
    "    \n",
    "    def __init__(self,data,label='',_children=(),_op=''):\n",
    "        self.data = data\n",
    "        self.grad = 0.0 \n",
    "        self.lable = label\n",
    "        self._backward = lambda:None\n",
    "        self._prev = set(_children)\n",
    "        self._op = _op\n",
    " \n",
    "    def __repr__(self):\n",
    "        return f\"Value(data = {self.data})\"\n",
    "    \n",
    "    def __add__(self,other):\n",
    "        other = other if isinstance(other,Value) else Value(other)\n",
    "        out = Value(self.data + other.data,(self,other),'+')\n",
    "        \n",
    "        def _backward():\n",
    "            self.grad += out.grad \n",
    "            other.grad += out.grad\n",
    "        out._backward = _backward\n",
    "        \n",
    "        return out\n",
    "\n",
    "\n",
    "    def __sub__(self,other):\n",
    "        other = other if isinstance(other,Value) else Value(other)\n",
    "        out = Value(self.data - other.data,(self,other),'-')\n",
    "\n",
    "        def _backward():\n",
    "            self.grad += out.grad \n",
    "            other.grad += out.grad\n",
    "        out._backward = _backward\n",
    "        \n",
    "        return out\n",
    "\n",
    "    def __mul__(self, other):\n",
    "        other = other if isinstance(other, Value) else Value(other)\n",
    "        out = Value(self.data * other.data, (self, other), '*')\n",
    "        \n",
    "        def _backward():\n",
    "            self.grad += other.data * out.grad\n",
    "            other.grad += self.data * out.grad\n",
    "        out._backward = _backward\n",
    "        \n",
    "        return out\n",
    "        \n",
    "    def __truediv__(self, other): # self / other\n",
    "        return self * other**-1\n",
    "        \n",
    "        \n",
    "    def __radd__(self, other): # other + self\n",
    "        return self + other\n",
    "    \n",
    "    def __neg__(self): # -self\n",
    "        return self * -1\n",
    "    \n",
    "    def __rsub__(self,other):\n",
    "        self.data*=-1\n",
    "        other*=-1\n",
    "        return self - other\n",
    "    \n",
    "    def exp(self):\n",
    "        x = self.data\n",
    "        out = Value(math.exp(x), (self, ), 'exp')\n",
    "    \n",
    "        def _backward():\n",
    "            self.grad += out.data * out.grad # NOTE: in the video I incorrectly used = instead of +=. Fixed here.\n",
    "        out._backward = _backward\n",
    "    \n",
    "        return out\n",
    "    \n",
    "    def __rmul__(self, other): # other * self\n",
    "        return self * other\n",
    "    \n",
    "    def tanh(self):\n",
    "        x = self.data\n",
    "        t = (math.exp(2*x) - 1)/(math.exp(2*x) + 1)\n",
    "        out = Value(t, (self, ), 'tanh')\n",
    "        \n",
    "        def _backward():\n",
    "            self.grad += (1 - t**2) * out.grad\n",
    "        \n",
    "        out._backward = _backward\n",
    "        return out\n",
    "    \n",
    "    def backward(self):\n",
    "        \n",
    "        topo = []\n",
    "        visited = set()\n",
    "        def build_topo(v):               \n",
    "            if v not in visited: \n",
    "                visited.add(v)\n",
    "                for child in v._prev:\n",
    "                    build_topo(child)\n",
    "                    topo.append(v)\n",
    "            build_topo(self)\n",
    "            topo\n",
    "            self.grad = 1.0\n",
    "            for node in reversed(topo):\n",
    "                  node._backward()"
   ]
  },
  {
   "cell_type": "code",
   "execution_count": 82,
   "id": "af02df28",
   "metadata": {},
   "outputs": [],
   "source": [
    "import random\n",
    "\n",
    "class Neuron:\n",
    "  \n",
    "    def __init__(self, nin):\n",
    "        self.w = [Value(random.uniform(-1,1)) for _ in range(nin)]\n",
    "        self.b = Value(random.uniform(-1,1))\n",
    "\n",
    "    def __call__(self, x):\n",
    "        # w * x + b\n",
    "        act = sum((wi*xi for wi, xi in zip(self.w, x)), self.b)\n",
    "        out = act.tanh()\n",
    "        return out\n",
    "\n",
    "    def parameters(self):\n",
    "        return self.w + [self.b]\n",
    "\n",
    "class Layer:\n",
    "  \n",
    "    def __init__(self, nin, nout):\n",
    "        self.neurons = [Neuron(nin) for _ in range(nout)]\n",
    "\n",
    "    def __call__(self, x):\n",
    "        outs = [n(x) for n in self.neurons]\n",
    "        return outs[0] if len(outs) == 1 else outs\n",
    "\n",
    "    def parameters(self):\n",
    "        return [p for neuron in self.neurons for p in neuron.parameters()]\n",
    "\n",
    "class MLP:  \n",
    "    def __init__(self, nin, nouts):\n",
    "        sz = [nin] + nouts\n",
    "        self.layers = [Layer(sz[i], sz[i+1]) for i in range(len(nouts))]\n",
    "\n",
    "    def __call__(self, x):\n",
    "        for layer in self.layers:\n",
    "            x = layer(x)\n",
    "        return x\n",
    "\n",
    "    def parameters(self):\n",
    "        return [p for layer in self.layers for p in layer.parameters()]                                              \n",
    "    \n",
    "    "
   ]
  },
  {
   "cell_type": "code",
   "execution_count": 83,
   "id": "855b5ad5",
   "metadata": {},
   "outputs": [
    {
     "data": {
      "text/plain": [
       "Value(data = 0.8636253289969622)"
      ]
     },
     "execution_count": 83,
     "metadata": {},
     "output_type": "execute_result"
    }
   ],
   "source": [
    "x = [2.0, 3.0, -1.0]\n",
    "n = MLP(3, [4, 4, 1])\n",
    "n(x)\n"
   ]
  },
  {
   "cell_type": "code",
   "execution_count": 84,
   "id": "e1ca5f1c",
   "metadata": {},
   "outputs": [
    {
     "data": {
      "text/plain": [
       "[Value(data = -0.15896236884806902),\n",
       " Value(data = -0.6931889353601468),\n",
       " Value(data = 0.11854664466217057),\n",
       " Value(data = 0.12730100922568188),\n",
       " Value(data = 0.4548447358663834),\n",
       " Value(data = 0.13816042782273796),\n",
       " Value(data = 0.38182867509085705),\n",
       " Value(data = -0.1498750645868081),\n",
       " Value(data = 0.17278380445320463),\n",
       " Value(data = -0.42441009524277606),\n",
       " Value(data = 0.5174267053694159),\n",
       " Value(data = -0.3072886040856475),\n",
       " Value(data = 0.8415576290592559),\n",
       " Value(data = 0.7935814253229696),\n",
       " Value(data = 0.34289067118758854),\n",
       " Value(data = -0.942857475798857),\n",
       " Value(data = -0.9510963752666748),\n",
       " Value(data = 0.5452502731948834),\n",
       " Value(data = -0.0629838085023926),\n",
       " Value(data = 0.03128296470930647),\n",
       " Value(data = -0.7553180963589234),\n",
       " Value(data = -0.23960144617536439),\n",
       " Value(data = 0.40169745105014587),\n",
       " Value(data = 0.709148813780361),\n",
       " Value(data = 0.6911837929220261),\n",
       " Value(data = -0.3497060281687776),\n",
       " Value(data = -0.017483513135609474),\n",
       " Value(data = 0.4818942475490666),\n",
       " Value(data = -0.40420388847835675),\n",
       " Value(data = -0.6878342776112567),\n",
       " Value(data = -0.012482415629465393),\n",
       " Value(data = -0.6694308601791248),\n",
       " Value(data = -0.1676151386369944),\n",
       " Value(data = 0.2685774654292157),\n",
       " Value(data = -0.6297429412715809),\n",
       " Value(data = -0.8751749883305828),\n",
       " Value(data = 0.2893327077861674),\n",
       " Value(data = 0.5006949415322615),\n",
       " Value(data = -0.8284484315939189),\n",
       " Value(data = -0.9639231745241847),\n",
       " Value(data = 0.27418096998836394)]"
      ]
     },
     "execution_count": 84,
     "metadata": {},
     "output_type": "execute_result"
    }
   ],
   "source": [
    "n.parameters()"
   ]
  },
  {
   "cell_type": "code",
   "execution_count": 85,
   "id": "dfd332d7",
   "metadata": {},
   "outputs": [
    {
     "data": {
      "text/plain": [
       "[Value(data = 0.8636253289969622),\n",
       " Value(data = 0.9314650877341198),\n",
       " Value(data = 0.8375257391726898),\n",
       " Value(data = 0.5462663594096082)]"
      ]
     },
     "execution_count": 85,
     "metadata": {},
     "output_type": "execute_result"
    }
   ],
   "source": [
    "xs = [\n",
    "  [2.0, 3.0, -1.0],\n",
    "  [3.0, -1.0, 0.5],\n",
    "  [0.5, 1.0, 1.0],\n",
    "  [1.0, 1.0, -1.0],\n",
    "]\n",
    "ys = [1.0, -1.0, -1.0, 1.0] # desired targets\n",
    "ypred =  [n(x) for x in xs]\n",
    "ypred"
   ]
  },
  {
   "cell_type": "code",
   "execution_count": 86,
   "id": "c6e1aff0",
   "metadata": {},
   "outputs": [],
   "source": [
    "loss=sum((yout.data - ygt)**2 for ygt, yout in zip(ys, ypred))\n",
    "loss = Value(loss)"
   ]
  },
  {
   "cell_type": "code",
   "execution_count": 87,
   "id": "4b576a76",
   "metadata": {},
   "outputs": [],
   "source": [
    "loss.backward()"
   ]
  },
  {
   "cell_type": "code",
   "execution_count": 89,
   "id": "dd3d73de",
   "metadata": {},
   "outputs": [
    {
     "data": {
      "text/plain": [
       "0.0"
      ]
     },
     "execution_count": 89,
     "metadata": {},
     "output_type": "execute_result"
    }
   ],
   "source": [
    "n.layers[0].neurons[0].w[0].grad"
   ]
  },
  {
   "cell_type": "code",
   "execution_count": 78,
   "id": "2a517f5a",
   "metadata": {},
   "outputs": [
    {
     "name": "stdout",
     "output_type": "stream",
     "text": [
      "0 6.3465736162105335\n",
      "1 6.3465736162105335\n",
      "2 6.3465736162105335\n",
      "3 6.3465736162105335\n",
      "4 6.3465736162105335\n",
      "5 6.3465736162105335\n",
      "6 6.3465736162105335\n",
      "7 6.3465736162105335\n",
      "8 6.3465736162105335\n",
      "9 6.3465736162105335\n",
      "10 6.3465736162105335\n",
      "11 6.3465736162105335\n",
      "12 6.3465736162105335\n",
      "13 6.3465736162105335\n",
      "14 6.3465736162105335\n",
      "15 6.3465736162105335\n",
      "16 6.3465736162105335\n",
      "17 6.3465736162105335\n",
      "18 6.3465736162105335\n",
      "19 6.3465736162105335\n"
     ]
    }
   ],
   "source": [
    "for k in range(20):\n",
    "  \n",
    "    # forward pass\n",
    "    ypred = [n(x) for x in xs]\n",
    "    loss=Value(sum((yout.data - ygt)**2 for ygt, yout in zip(ys, ypred)))\n",
    "    \n",
    "    # backward pass\n",
    "    for p in n.parameters():\n",
    "        p.grad = 0.0\n",
    "    loss.backward()\n",
    "\n",
    "    # update\n",
    "    for p in n.parameters():\n",
    "        p.data += -0.1 * p.grad\n",
    "\n",
    "    print(k, loss.data)"
   ]
  },
  {
   "cell_type": "code",
   "execution_count": null,
   "id": "c3af293e",
   "metadata": {},
   "outputs": [],
   "source": [
    "*---------------------------------------------------*"
   ]
  },
  {
   "cell_type": "code",
   "execution_count": null,
   "id": "7b15ba5e",
   "metadata": {},
   "outputs": [],
   "source": []
  }
 ],
 "metadata": {
  "kernelspec": {
   "display_name": "Python 3 (ipykernel)",
   "language": "python",
   "name": "python3"
  },
  "language_info": {
   "codemirror_mode": {
    "name": "ipython",
    "version": 3
   },
   "file_extension": ".py",
   "mimetype": "text/x-python",
   "name": "python",
   "nbconvert_exporter": "python",
   "pygments_lexer": "ipython3",
   "version": "3.9.12"
  }
 },
 "nbformat": 4,
 "nbformat_minor": 5
}
